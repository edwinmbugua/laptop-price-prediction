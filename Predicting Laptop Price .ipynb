{
 "cells": [
  {
   "cell_type": "markdown",
   "id": "3b4ff46e",
   "metadata": {},
   "source": [
    "In this notebook we shall work on a laptop price prediction project using machine learning give the laptop specifications. \n",
    "\n",
    "## 1. Problem definition\n",
    "How well can we predict the future sale price of a laptop,given its specifications and previous examples of how much similar laptops have been sold for?\n",
    "\n",
    "## 2. Data\n",
    "\n",
    "The data used in this project was obtained from Kaggle https://www.kaggle.com/datasets/ionaskel/laptop-prices .\n",
    "\n",
    "The dataset comprises of 1300 laptop models.\n",
    "\n",
    "\n",
    "\n",
    "## 3.Evaluation\n",
    "\n",
    "The two main metrics used for estimating the performance of our models would be the R-squared score and the Mean absolute error (MAE). We want to achieve a higher R-squared score and lower MAE score with our models.\n",
    "\n",
    "The goal for most regression evaluation metrics is to minimize the error.For example ,our goal for this project will be to build a machine learning model which minimises MAE.\n",
    "\n",
    "## 4. Features\n",
    "\n",
    "The features in the dataset incude:\n",
    "* Company Name\n",
    "* Product Name\n",
    "* Laptop Type\n",
    "* Screen Inches\n",
    "* Screen Resolution\n",
    "* CPU Model\n",
    "* RAM Characteristics Memory\n",
    "* GPU Characteristics\n",
    "* Operating System\n",
    "* Laptop's Weight\n",
    "* Laptop's Price"
   ]
  },
  {
   "cell_type": "code",
   "execution_count": 3,
   "id": "92864550",
   "metadata": {},
   "outputs": [],
   "source": [
    "#Import required libraries\n",
    "import numpy as np\n",
    "import pandas as pd\n",
    "import matplotlib.pyplot as plt\n",
    "import seaborn as sns"
   ]
  },
  {
   "cell_type": "code",
   "execution_count": 2,
   "id": "bc85f45a",
   "metadata": {},
   "outputs": [
    {
     "data": {
      "text/html": [
       "<div>\n",
       "<style scoped>\n",
       "    .dataframe tbody tr th:only-of-type {\n",
       "        vertical-align: middle;\n",
       "    }\n",
       "\n",
       "    .dataframe tbody tr th {\n",
       "        vertical-align: top;\n",
       "    }\n",
       "\n",
       "    .dataframe thead th {\n",
       "        text-align: right;\n",
       "    }\n",
       "</style>\n",
       "<table border=\"1\" class=\"dataframe\">\n",
       "  <thead>\n",
       "    <tr style=\"text-align: right;\">\n",
       "      <th></th>\n",
       "      <th>Company</th>\n",
       "      <th>Product</th>\n",
       "      <th>TypeName</th>\n",
       "      <th>Inches</th>\n",
       "      <th>ScreenResolution</th>\n",
       "      <th>Cpu</th>\n",
       "      <th>Ram</th>\n",
       "      <th>Memory</th>\n",
       "      <th>Gpu</th>\n",
       "      <th>OpSys</th>\n",
       "      <th>Weight</th>\n",
       "      <th>Price_euros</th>\n",
       "    </tr>\n",
       "  </thead>\n",
       "  <tbody>\n",
       "    <tr>\n",
       "      <th>0</th>\n",
       "      <td>Apple</td>\n",
       "      <td>MacBook Pro</td>\n",
       "      <td>Ultrabook</td>\n",
       "      <td>13.3</td>\n",
       "      <td>IPS Panel Retina Display 2560x1600</td>\n",
       "      <td>Intel Core i5 2.3GHz</td>\n",
       "      <td>8GB</td>\n",
       "      <td>128GB SSD</td>\n",
       "      <td>Intel Iris Plus Graphics 640</td>\n",
       "      <td>macOS</td>\n",
       "      <td>1.37kg</td>\n",
       "      <td>1339.69</td>\n",
       "    </tr>\n",
       "    <tr>\n",
       "      <th>1</th>\n",
       "      <td>Apple</td>\n",
       "      <td>Macbook Air</td>\n",
       "      <td>Ultrabook</td>\n",
       "      <td>13.3</td>\n",
       "      <td>1440x900</td>\n",
       "      <td>Intel Core i5 1.8GHz</td>\n",
       "      <td>8GB</td>\n",
       "      <td>128GB Flash Storage</td>\n",
       "      <td>Intel HD Graphics 6000</td>\n",
       "      <td>macOS</td>\n",
       "      <td>1.34kg</td>\n",
       "      <td>898.94</td>\n",
       "    </tr>\n",
       "    <tr>\n",
       "      <th>2</th>\n",
       "      <td>HP</td>\n",
       "      <td>250 G6</td>\n",
       "      <td>Notebook</td>\n",
       "      <td>15.6</td>\n",
       "      <td>Full HD 1920x1080</td>\n",
       "      <td>Intel Core i5 7200U 2.5GHz</td>\n",
       "      <td>8GB</td>\n",
       "      <td>256GB SSD</td>\n",
       "      <td>Intel HD Graphics 620</td>\n",
       "      <td>No OS</td>\n",
       "      <td>1.86kg</td>\n",
       "      <td>575.00</td>\n",
       "    </tr>\n",
       "    <tr>\n",
       "      <th>3</th>\n",
       "      <td>Apple</td>\n",
       "      <td>MacBook Pro</td>\n",
       "      <td>Ultrabook</td>\n",
       "      <td>15.4</td>\n",
       "      <td>IPS Panel Retina Display 2880x1800</td>\n",
       "      <td>Intel Core i7 2.7GHz</td>\n",
       "      <td>16GB</td>\n",
       "      <td>512GB SSD</td>\n",
       "      <td>AMD Radeon Pro 455</td>\n",
       "      <td>macOS</td>\n",
       "      <td>1.83kg</td>\n",
       "      <td>2537.45</td>\n",
       "    </tr>\n",
       "    <tr>\n",
       "      <th>4</th>\n",
       "      <td>Apple</td>\n",
       "      <td>MacBook Pro</td>\n",
       "      <td>Ultrabook</td>\n",
       "      <td>13.3</td>\n",
       "      <td>IPS Panel Retina Display 2560x1600</td>\n",
       "      <td>Intel Core i5 3.1GHz</td>\n",
       "      <td>8GB</td>\n",
       "      <td>256GB SSD</td>\n",
       "      <td>Intel Iris Plus Graphics 650</td>\n",
       "      <td>macOS</td>\n",
       "      <td>1.37kg</td>\n",
       "      <td>1803.60</td>\n",
       "    </tr>\n",
       "  </tbody>\n",
       "</table>\n",
       "</div>"
      ],
      "text/plain": [
       "  Company      Product   TypeName  Inches                    ScreenResolution  \\\n",
       "0   Apple  MacBook Pro  Ultrabook    13.3  IPS Panel Retina Display 2560x1600   \n",
       "1   Apple  Macbook Air  Ultrabook    13.3                            1440x900   \n",
       "2      HP       250 G6   Notebook    15.6                   Full HD 1920x1080   \n",
       "3   Apple  MacBook Pro  Ultrabook    15.4  IPS Panel Retina Display 2880x1800   \n",
       "4   Apple  MacBook Pro  Ultrabook    13.3  IPS Panel Retina Display 2560x1600   \n",
       "\n",
       "                          Cpu   Ram               Memory  \\\n",
       "0        Intel Core i5 2.3GHz   8GB            128GB SSD   \n",
       "1        Intel Core i5 1.8GHz   8GB  128GB Flash Storage   \n",
       "2  Intel Core i5 7200U 2.5GHz   8GB            256GB SSD   \n",
       "3        Intel Core i7 2.7GHz  16GB            512GB SSD   \n",
       "4        Intel Core i5 3.1GHz   8GB            256GB SSD   \n",
       "\n",
       "                            Gpu  OpSys  Weight  Price_euros  \n",
       "0  Intel Iris Plus Graphics 640  macOS  1.37kg      1339.69  \n",
       "1        Intel HD Graphics 6000  macOS  1.34kg       898.94  \n",
       "2         Intel HD Graphics 620  No OS  1.86kg       575.00  \n",
       "3            AMD Radeon Pro 455  macOS  1.83kg      2537.45  \n",
       "4  Intel Iris Plus Graphics 650  macOS  1.37kg      1803.60  "
      ]
     },
     "execution_count": 2,
     "metadata": {},
     "output_type": "execute_result"
    }
   ],
   "source": [
    "#Import dataset to be used\n",
    "laptop_data = pd.read_csv('D:/DS/dataset/laptops.csv')\n",
    "\n",
    "#Drop the Unnamed: 0 column \n",
    "laptop_data.drop('Unnamed: 0',axis=1,inplace=True)\n",
    "\n",
    "#View a summary of the data top 5 rows\n",
    "laptop_data.head()"
   ]
  },
  {
   "cell_type": "code",
   "execution_count": 3,
   "id": "789b6996",
   "metadata": {},
   "outputs": [
    {
     "name": "stdout",
     "output_type": "stream",
     "text": [
      "<class 'pandas.core.frame.DataFrame'>\n",
      "RangeIndex: 1303 entries, 0 to 1302\n",
      "Data columns (total 12 columns):\n",
      " #   Column            Non-Null Count  Dtype  \n",
      "---  ------            --------------  -----  \n",
      " 0   Company           1303 non-null   object \n",
      " 1   Product           1303 non-null   object \n",
      " 2   TypeName          1303 non-null   object \n",
      " 3   Inches            1303 non-null   float64\n",
      " 4   ScreenResolution  1303 non-null   object \n",
      " 5   Cpu               1303 non-null   object \n",
      " 6   Ram               1303 non-null   object \n",
      " 7   Memory            1303 non-null   object \n",
      " 8   Gpu               1303 non-null   object \n",
      " 9   OpSys             1303 non-null   object \n",
      " 10  Weight            1303 non-null   object \n",
      " 11  Price_euros       1303 non-null   float64\n",
      "dtypes: float64(2), object(10)\n",
      "memory usage: 122.3+ KB\n"
     ]
    }
   ],
   "source": [
    "#Get information about our dataset\n",
    "laptop_data.info()"
   ]
  },
  {
   "cell_type": "code",
   "execution_count": 4,
   "id": "0138cffd",
   "metadata": {},
   "outputs": [
    {
     "data": {
      "text/plain": [
       "(1303, 12)"
      ]
     },
     "execution_count": 4,
     "metadata": {},
     "output_type": "execute_result"
    }
   ],
   "source": [
    "#Get the shape of our data]\n",
    "laptop_data.shape"
   ]
  },
  {
   "cell_type": "code",
   "execution_count": 5,
   "id": "1f01a4aa",
   "metadata": {},
   "outputs": [
    {
     "data": {
      "text/plain": [
       "Company             0\n",
       "Product             0\n",
       "TypeName            0\n",
       "Inches              0\n",
       "ScreenResolution    0\n",
       "Cpu                 0\n",
       "Ram                 0\n",
       "Memory              0\n",
       "Gpu                 0\n",
       "OpSys               0\n",
       "Weight              0\n",
       "Price_euros         0\n",
       "dtype: int64"
      ]
     },
     "execution_count": 5,
     "metadata": {},
     "output_type": "execute_result"
    }
   ],
   "source": [
    "#Check for missing values\n",
    "laptop_data.isna().sum()"
   ]
  },
  {
   "cell_type": "markdown",
   "id": "cd11253e",
   "metadata": {},
   "source": [
    "We do not have missing values in our dataset"
   ]
  },
  {
   "cell_type": "code",
   "execution_count": 6,
   "id": "a77d297f",
   "metadata": {
    "scrolled": true
   },
   "outputs": [
    {
     "data": {
      "text/plain": [
       "<AxesSubplot:>"
      ]
     },
     "execution_count": 6,
     "metadata": {},
     "output_type": "execute_result"
    },
    {
     "data": {
      "image/png": "[encoded data removed]",
      "text/plain": [
       "<Figure size 432x288 with 1 Axes>"
      ]
     },
     "metadata": {
      "needs_background": "light"
     },
     "output_type": "display_data"
    }
   ],
   "source": [
    "#Checking the distribution of our target variable through a histogram plot\n",
    "laptop_data.Price_euros.hist()"
   ]
  },
  {
   "cell_type": "markdown",
   "id": "0a071589",
   "metadata": {},
   "source": [
    "Most laptops range between the prices of 0-1200 euros"
   ]
  },
  {
   "cell_type": "code",
   "execution_count": 7,
   "id": "dce4376d",
   "metadata": {
    "scrolled": true
   },
   "outputs": [
    {
     "data": {
      "text/html": [
       "<div>\n",
       "<style scoped>\n",
       "    .dataframe tbody tr th:only-of-type {\n",
       "        vertical-align: middle;\n",
       "    }\n",
       "\n",
       "    .dataframe tbody tr th {\n",
       "        vertical-align: top;\n",
       "    }\n",
       "\n",
       "    .dataframe thead th {\n",
       "        text-align: right;\n",
       "    }\n",
       "</style>\n",
       "<table border=\"1\" class=\"dataframe\">\n",
       "  <thead>\n",
       "    <tr style=\"text-align: right;\">\n",
       "      <th></th>\n",
       "      <th>Company</th>\n",
       "      <th>Product</th>\n",
       "      <th>TypeName</th>\n",
       "      <th>Inches</th>\n",
       "      <th>ScreenResolution</th>\n",
       "      <th>Cpu</th>\n",
       "      <th>Ram</th>\n",
       "      <th>Memory</th>\n",
       "      <th>Gpu</th>\n",
       "      <th>OpSys</th>\n",
       "      <th>Weight</th>\n",
       "      <th>Price_euros</th>\n",
       "    </tr>\n",
       "  </thead>\n",
       "  <tbody>\n",
       "    <tr>\n",
       "      <th>0</th>\n",
       "      <td>Apple</td>\n",
       "      <td>MacBook Pro</td>\n",
       "      <td>Ultrabook</td>\n",
       "      <td>13.3</td>\n",
       "      <td>IPS Panel Retina Display 2560x1600</td>\n",
       "      <td>Intel Core i5 2.3GHz</td>\n",
       "      <td>8GB</td>\n",
       "      <td>128GB SSD</td>\n",
       "      <td>Intel Iris Plus Graphics 640</td>\n",
       "      <td>macOS</td>\n",
       "      <td>1.37kg</td>\n",
       "      <td>1339.69</td>\n",
       "    </tr>\n",
       "    <tr>\n",
       "      <th>1</th>\n",
       "      <td>Apple</td>\n",
       "      <td>Macbook Air</td>\n",
       "      <td>Ultrabook</td>\n",
       "      <td>13.3</td>\n",
       "      <td>1440x900</td>\n",
       "      <td>Intel Core i5 1.8GHz</td>\n",
       "      <td>8GB</td>\n",
       "      <td>128GB Flash Storage</td>\n",
       "      <td>Intel HD Graphics 6000</td>\n",
       "      <td>macOS</td>\n",
       "      <td>1.34kg</td>\n",
       "      <td>898.94</td>\n",
       "    </tr>\n",
       "    <tr>\n",
       "      <th>2</th>\n",
       "      <td>HP</td>\n",
       "      <td>250 G6</td>\n",
       "      <td>Notebook</td>\n",
       "      <td>15.6</td>\n",
       "      <td>Full HD 1920x1080</td>\n",
       "      <td>Intel Core i5 7200U 2.5GHz</td>\n",
       "      <td>8GB</td>\n",
       "      <td>256GB SSD</td>\n",
       "      <td>Intel HD Graphics 620</td>\n",
       "      <td>No OS</td>\n",
       "      <td>1.86kg</td>\n",
       "      <td>575.00</td>\n",
       "    </tr>\n",
       "    <tr>\n",
       "      <th>3</th>\n",
       "      <td>Apple</td>\n",
       "      <td>MacBook Pro</td>\n",
       "      <td>Ultrabook</td>\n",
       "      <td>15.4</td>\n",
       "      <td>IPS Panel Retina Display 2880x1800</td>\n",
       "      <td>Intel Core i7 2.7GHz</td>\n",
       "      <td>16GB</td>\n",
       "      <td>512GB SSD</td>\n",
       "      <td>AMD Radeon Pro 455</td>\n",
       "      <td>macOS</td>\n",
       "      <td>1.83kg</td>\n",
       "      <td>2537.45</td>\n",
       "    </tr>\n",
       "    <tr>\n",
       "      <th>4</th>\n",
       "      <td>Apple</td>\n",
       "      <td>MacBook Pro</td>\n",
       "      <td>Ultrabook</td>\n",
       "      <td>13.3</td>\n",
       "      <td>IPS Panel Retina Display 2560x1600</td>\n",
       "      <td>Intel Core i5 3.1GHz</td>\n",
       "      <td>8GB</td>\n",
       "      <td>256GB SSD</td>\n",
       "      <td>Intel Iris Plus Graphics 650</td>\n",
       "      <td>macOS</td>\n",
       "      <td>1.37kg</td>\n",
       "      <td>1803.60</td>\n",
       "    </tr>\n",
       "  </tbody>\n",
       "</table>\n",
       "</div>"
      ],
      "text/plain": [
       "  Company      Product   TypeName  Inches                    ScreenResolution  \\\n",
       "0   Apple  MacBook Pro  Ultrabook    13.3  IPS Panel Retina Display 2560x1600   \n",
       "1   Apple  Macbook Air  Ultrabook    13.3                            1440x900   \n",
       "2      HP       250 G6   Notebook    15.6                   Full HD 1920x1080   \n",
       "3   Apple  MacBook Pro  Ultrabook    15.4  IPS Panel Retina Display 2880x1800   \n",
       "4   Apple  MacBook Pro  Ultrabook    13.3  IPS Panel Retina Display 2560x1600   \n",
       "\n",
       "                          Cpu   Ram               Memory  \\\n",
       "0        Intel Core i5 2.3GHz   8GB            128GB SSD   \n",
       "1        Intel Core i5 1.8GHz   8GB  128GB Flash Storage   \n",
       "2  Intel Core i5 7200U 2.5GHz   8GB            256GB SSD   \n",
       "3        Intel Core i7 2.7GHz  16GB            512GB SSD   \n",
       "4        Intel Core i5 3.1GHz   8GB            256GB SSD   \n",
       "\n",
       "                            Gpu  OpSys  Weight  Price_euros  \n",
       "0  Intel Iris Plus Graphics 640  macOS  1.37kg      1339.69  \n",
       "1        Intel HD Graphics 6000  macOS  1.34kg       898.94  \n",
       "2         Intel HD Graphics 620  No OS  1.86kg       575.00  \n",
       "3            AMD Radeon Pro 455  macOS  1.83kg      2537.45  \n",
       "4  Intel Iris Plus Graphics 650  macOS  1.37kg      1803.60  "
      ]
     },
     "execution_count": 7,
     "metadata": {},
     "output_type": "execute_result"
    }
   ],
   "source": [
    "laptop_data.head()"
   ]
  },
  {
   "cell_type": "markdown",
   "id": "ed5ffa9b",
   "metadata": {},
   "source": [
    "### Feature Engineering"
   ]
  },
  {
   "cell_type": "code",
   "execution_count": 8,
   "id": "5e35ffd2",
   "metadata": {},
   "outputs": [],
   "source": [
    "#Convert laptop price from euros to USD \n",
    "laptop_data['Price_USD']=laptop_data['Price_euros']*1.05\n",
    "#Round the price value to two decimal places\n",
    "laptop_data['Price_USD']=round(laptop_data['Price_USD'],2)"
   ]
  },
  {
   "cell_type": "code",
   "execution_count": 9,
   "id": "1756f1ae",
   "metadata": {},
   "outputs": [],
   "source": [
    "#Create  TouchScreen column our of the screenresolution laptop properties \n",
    "laptop_data.loc[laptop_data['ScreenResolution'].str.contains('Touchscreen'),'TouchScreen']='Yes'"
   ]
  },
  {
   "cell_type": "code",
   "execution_count": 10,
   "id": "7ff281ef",
   "metadata": {},
   "outputs": [],
   "source": [
    "#Replace Missing values with No \n",
    "laptop_data['TouchScreen']=laptop_data['TouchScreen'].fillna('No')"
   ]
  },
  {
   "cell_type": "code",
   "execution_count": 11,
   "id": "d6b14e22",
   "metadata": {
    "scrolled": true
   },
   "outputs": [
    {
     "data": {
      "text/plain": [
       "<bound method IndexOpsMixin.value_counts of 0               IPS Panel Retina Display 2560x1600\n",
       "1                                         1440x900\n",
       "2                                Full HD 1920x1080\n",
       "3               IPS Panel Retina Display 2880x1800\n",
       "4               IPS Panel Retina Display 2560x1600\n",
       "                           ...                    \n",
       "1298     IPS Panel Full HD / Touchscreen 1920x1080\n",
       "1299    IPS Panel Quad HD+ / Touchscreen 3200x1800\n",
       "1300                                      1366x768\n",
       "1301                                      1366x768\n",
       "1302                                      1366x768\n",
       "Name: ScreenResolution, Length: 1303, dtype: object>"
      ]
     },
     "execution_count": 11,
     "metadata": {},
     "output_type": "execute_result"
    }
   ],
   "source": [
    "laptop_data['ScreenResolution'].value_counts"
   ]
  },
  {
   "cell_type": "code",
   "execution_count": 12,
   "id": "7f80b2a5",
   "metadata": {},
   "outputs": [],
   "source": [
    "laptop_data['Ips'] = laptop_data['ScreenResolution'].apply(lambda x:1 if 'IPS' in x else 0)"
   ]
  },
  {
   "cell_type": "code",
   "execution_count": 13,
   "id": "566c6901",
   "metadata": {},
   "outputs": [
    {
     "data": {
      "text/html": [
       "<div>\n",
       "<style scoped>\n",
       "    .dataframe tbody tr th:only-of-type {\n",
       "        vertical-align: middle;\n",
       "    }\n",
       "\n",
       "    .dataframe tbody tr th {\n",
       "        vertical-align: top;\n",
       "    }\n",
       "\n",
       "    .dataframe thead th {\n",
       "        text-align: right;\n",
       "    }\n",
       "</style>\n",
       "<table border=\"1\" class=\"dataframe\">\n",
       "  <thead>\n",
       "    <tr style=\"text-align: right;\">\n",
       "      <th></th>\n",
       "      <th>Company</th>\n",
       "      <th>Product</th>\n",
       "      <th>TypeName</th>\n",
       "      <th>Inches</th>\n",
       "      <th>ScreenResolution</th>\n",
       "      <th>Cpu</th>\n",
       "      <th>Ram</th>\n",
       "      <th>Memory</th>\n",
       "      <th>Gpu</th>\n",
       "      <th>OpSys</th>\n",
       "      <th>Weight</th>\n",
       "      <th>Price_euros</th>\n",
       "      <th>Price_USD</th>\n",
       "      <th>TouchScreen</th>\n",
       "      <th>Ips</th>\n",
       "    </tr>\n",
       "  </thead>\n",
       "  <tbody>\n",
       "    <tr>\n",
       "      <th>0</th>\n",
       "      <td>Apple</td>\n",
       "      <td>MacBook Pro</td>\n",
       "      <td>Ultrabook</td>\n",
       "      <td>13.3</td>\n",
       "      <td>IPS Panel Retina Display 2560x1600</td>\n",
       "      <td>Intel Core i5 2.3GHz</td>\n",
       "      <td>8GB</td>\n",
       "      <td>128GB SSD</td>\n",
       "      <td>Intel Iris Plus Graphics 640</td>\n",
       "      <td>macOS</td>\n",
       "      <td>1.37kg</td>\n",
       "      <td>1339.69</td>\n",
       "      <td>1406.67</td>\n",
       "      <td>No</td>\n",
       "      <td>1</td>\n",
       "    </tr>\n",
       "    <tr>\n",
       "      <th>1</th>\n",
       "      <td>Apple</td>\n",
       "      <td>Macbook Air</td>\n",
       "      <td>Ultrabook</td>\n",
       "      <td>13.3</td>\n",
       "      <td>1440x900</td>\n",
       "      <td>Intel Core i5 1.8GHz</td>\n",
       "      <td>8GB</td>\n",
       "      <td>128GB Flash Storage</td>\n",
       "      <td>Intel HD Graphics 6000</td>\n",
       "      <td>macOS</td>\n",
       "      <td>1.34kg</td>\n",
       "      <td>898.94</td>\n",
       "      <td>943.89</td>\n",
       "      <td>No</td>\n",
       "      <td>0</td>\n",
       "    </tr>\n",
       "    <tr>\n",
       "      <th>2</th>\n",
       "      <td>HP</td>\n",
       "      <td>250 G6</td>\n",
       "      <td>Notebook</td>\n",
       "      <td>15.6</td>\n",
       "      <td>Full HD 1920x1080</td>\n",
       "      <td>Intel Core i5 7200U 2.5GHz</td>\n",
       "      <td>8GB</td>\n",
       "      <td>256GB SSD</td>\n",
       "      <td>Intel HD Graphics 620</td>\n",
       "      <td>No OS</td>\n",
       "      <td>1.86kg</td>\n",
       "      <td>575.00</td>\n",
       "      <td>603.75</td>\n",
       "      <td>No</td>\n",
       "      <td>0</td>\n",
       "    </tr>\n",
       "    <tr>\n",
       "      <th>3</th>\n",
       "      <td>Apple</td>\n",
       "      <td>MacBook Pro</td>\n",
       "      <td>Ultrabook</td>\n",
       "      <td>15.4</td>\n",
       "      <td>IPS Panel Retina Display 2880x1800</td>\n",
       "      <td>Intel Core i7 2.7GHz</td>\n",
       "      <td>16GB</td>\n",
       "      <td>512GB SSD</td>\n",
       "      <td>AMD Radeon Pro 455</td>\n",
       "      <td>macOS</td>\n",
       "      <td>1.83kg</td>\n",
       "      <td>2537.45</td>\n",
       "      <td>2664.32</td>\n",
       "      <td>No</td>\n",
       "      <td>1</td>\n",
       "    </tr>\n",
       "    <tr>\n",
       "      <th>4</th>\n",
       "      <td>Apple</td>\n",
       "      <td>MacBook Pro</td>\n",
       "      <td>Ultrabook</td>\n",
       "      <td>13.3</td>\n",
       "      <td>IPS Panel Retina Display 2560x1600</td>\n",
       "      <td>Intel Core i5 3.1GHz</td>\n",
       "      <td>8GB</td>\n",
       "      <td>256GB SSD</td>\n",
       "      <td>Intel Iris Plus Graphics 650</td>\n",
       "      <td>macOS</td>\n",
       "      <td>1.37kg</td>\n",
       "      <td>1803.60</td>\n",
       "      <td>1893.78</td>\n",
       "      <td>No</td>\n",
       "      <td>1</td>\n",
       "    </tr>\n",
       "  </tbody>\n",
       "</table>\n",
       "</div>"
      ],
      "text/plain": [
       "  Company      Product   TypeName  Inches                    ScreenResolution  \\\n",
       "0   Apple  MacBook Pro  Ultrabook    13.3  IPS Panel Retina Display 2560x1600   \n",
       "1   Apple  Macbook Air  Ultrabook    13.3                            1440x900   \n",
       "2      HP       250 G6   Notebook    15.6                   Full HD 1920x1080   \n",
       "3   Apple  MacBook Pro  Ultrabook    15.4  IPS Panel Retina Display 2880x1800   \n",
       "4   Apple  MacBook Pro  Ultrabook    13.3  IPS Panel Retina Display 2560x1600   \n",
       "\n",
       "                          Cpu   Ram               Memory  \\\n",
       "0        Intel Core i5 2.3GHz   8GB            128GB SSD   \n",
       "1        Intel Core i5 1.8GHz   8GB  128GB Flash Storage   \n",
       "2  Intel Core i5 7200U 2.5GHz   8GB            256GB SSD   \n",
       "3        Intel Core i7 2.7GHz  16GB            512GB SSD   \n",
       "4        Intel Core i5 3.1GHz   8GB            256GB SSD   \n",
       "\n",
       "                            Gpu  OpSys  Weight  Price_euros  Price_USD  \\\n",
       "0  Intel Iris Plus Graphics 640  macOS  1.37kg      1339.69    1406.67   \n",
       "1        Intel HD Graphics 6000  macOS  1.34kg       898.94     943.89   \n",
       "2         Intel HD Graphics 620  No OS  1.86kg       575.00     603.75   \n",
       "3            AMD Radeon Pro 455  macOS  1.83kg      2537.45    2664.32   \n",
       "4  Intel Iris Plus Graphics 650  macOS  1.37kg      1803.60    1893.78   \n",
       "\n",
       "  TouchScreen  Ips  \n",
       "0          No    1  \n",
       "1          No    0  \n",
       "2          No    0  \n",
       "3          No    1  \n",
       "4          No    1  "
      ]
     },
     "execution_count": 13,
     "metadata": {},
     "output_type": "execute_result"
    }
   ],
   "source": [
    "laptop_data.head()"
   ]
  },
  {
   "cell_type": "code",
   "execution_count": 14,
   "id": "950d57a5",
   "metadata": {},
   "outputs": [],
   "source": [
    "#Extract screen resolution from the screenresolution column\n",
    "laptop_data['ScreenResolution']=laptop_data['ScreenResolution'].str.extract('(\\d\\d\\d\\d?x\\d\\d\\d\\d?)',expand=True)"
   ]
  },
  {
   "cell_type": "code",
   "execution_count": 15,
   "id": "569799d5",
   "metadata": {},
   "outputs": [],
   "source": [
    "#Extract CPU speed numerical value\n",
    "laptop_data[\"Cpu_Speed\"] = laptop_data[\"Cpu\"].str.split(\" \").apply(lambda x: x[-1]).str.replace(\"GHz\", \"\")\n"
   ]
  },
  {
   "cell_type": "code",
   "execution_count": 16,
   "id": "3eaf4d06",
   "metadata": {},
   "outputs": [],
   "source": [
    "#Extract the type of  CPU in the Laptop \n",
    "#first we will extract Name of CPU which is first 3 words from Cpu column and then we will check which processor it is\n",
    "def fetch_processor(x):\n",
    "    cpu_name = \" \".join(x.split()[0:3])\n",
    "    if cpu_name == 'Intel Core i7' or cpu_name == 'Intel Core i5' or cpu_name == 'Intel Core i3':\n",
    "        return cpu_name\n",
    "    elif cpu_name.split()[0] == 'Intel':\n",
    "        return 'Other Intel Processor'\n",
    "    else:\n",
    "        return 'AMD Processor'\n",
    "laptop_data['Cpu_Type'] = laptop_data['Cpu'].apply(lambda x: fetch_processor(x))\n",
    "\n",
    "#Extracting only the numeric value of the ram \n",
    "laptop_data['Ram']=laptop_data['Ram'].str.replace(\"GB\", \"\")\n",
    "\n",
    "#Extract the memory type from Memory\n",
    "laptop_data[['Storage_Size(GB)','Storage_Type']]=laptop_data['Memory'].str.split(' ',1,expand=True)"
   ]
  },
  {
   "cell_type": "code",
   "execution_count": 17,
   "id": "d471befd",
   "metadata": {},
   "outputs": [],
   "source": [
    "#Extract only  the numerical part of the memory size\n",
    "laptop_data['Storage_Size(GB)']=laptop_data['Storage_Size(GB)'].str.replace(\"GB\", \"\")"
   ]
  },
  {
   "cell_type": "code",
   "execution_count": 18,
   "id": "3b9c48ef",
   "metadata": {
    "scrolled": true
   },
   "outputs": [
    {
     "data": {
      "text/html": [
       "<div>\n",
       "<style scoped>\n",
       "    .dataframe tbody tr th:only-of-type {\n",
       "        vertical-align: middle;\n",
       "    }\n",
       "\n",
       "    .dataframe tbody tr th {\n",
       "        vertical-align: top;\n",
       "    }\n",
       "\n",
       "    .dataframe thead th {\n",
       "        text-align: right;\n",
       "    }\n",
       "</style>\n",
       "<table border=\"1\" class=\"dataframe\">\n",
       "  <thead>\n",
       "    <tr style=\"text-align: right;\">\n",
       "      <th></th>\n",
       "      <th>Company</th>\n",
       "      <th>Product</th>\n",
       "      <th>TypeName</th>\n",
       "      <th>Inches</th>\n",
       "      <th>ScreenResolution</th>\n",
       "      <th>Cpu</th>\n",
       "      <th>Ram</th>\n",
       "      <th>Memory</th>\n",
       "      <th>Gpu</th>\n",
       "      <th>OpSys</th>\n",
       "      <th>Weight</th>\n",
       "      <th>Price_euros</th>\n",
       "      <th>Price_USD</th>\n",
       "      <th>TouchScreen</th>\n",
       "      <th>Ips</th>\n",
       "      <th>Cpu_Speed</th>\n",
       "      <th>Cpu_Type</th>\n",
       "      <th>Storage_Size(GB)</th>\n",
       "      <th>Storage_Type</th>\n",
       "    </tr>\n",
       "  </thead>\n",
       "  <tbody>\n",
       "    <tr>\n",
       "      <th>0</th>\n",
       "      <td>Apple</td>\n",
       "      <td>MacBook Pro</td>\n",
       "      <td>Ultrabook</td>\n",
       "      <td>13.3</td>\n",
       "      <td>2560x1600</td>\n",
       "      <td>Intel Core i5 2.3GHz</td>\n",
       "      <td>8</td>\n",
       "      <td>128GB SSD</td>\n",
       "      <td>Intel Iris Plus Graphics 640</td>\n",
       "      <td>macOS</td>\n",
       "      <td>1.37</td>\n",
       "      <td>1339.69</td>\n",
       "      <td>1406.67</td>\n",
       "      <td>No</td>\n",
       "      <td>1</td>\n",
       "      <td>2.3</td>\n",
       "      <td>Intel Core i5</td>\n",
       "      <td>128</td>\n",
       "      <td>SSD</td>\n",
       "    </tr>\n",
       "    <tr>\n",
       "      <th>1</th>\n",
       "      <td>Apple</td>\n",
       "      <td>Macbook Air</td>\n",
       "      <td>Ultrabook</td>\n",
       "      <td>13.3</td>\n",
       "      <td>1440x900</td>\n",
       "      <td>Intel Core i5 1.8GHz</td>\n",
       "      <td>8</td>\n",
       "      <td>128GB Flash Storage</td>\n",
       "      <td>Intel HD Graphics 6000</td>\n",
       "      <td>macOS</td>\n",
       "      <td>1.34</td>\n",
       "      <td>898.94</td>\n",
       "      <td>943.89</td>\n",
       "      <td>No</td>\n",
       "      <td>0</td>\n",
       "      <td>1.8</td>\n",
       "      <td>Intel Core i5</td>\n",
       "      <td>128</td>\n",
       "      <td>Flash Storage</td>\n",
       "    </tr>\n",
       "    <tr>\n",
       "      <th>2</th>\n",
       "      <td>HP</td>\n",
       "      <td>250 G6</td>\n",
       "      <td>Notebook</td>\n",
       "      <td>15.6</td>\n",
       "      <td>1920x1080</td>\n",
       "      <td>Intel Core i5 7200U 2.5GHz</td>\n",
       "      <td>8</td>\n",
       "      <td>256GB SSD</td>\n",
       "      <td>Intel HD Graphics 620</td>\n",
       "      <td>No OS</td>\n",
       "      <td>1.86</td>\n",
       "      <td>575.00</td>\n",
       "      <td>603.75</td>\n",
       "      <td>No</td>\n",
       "      <td>0</td>\n",
       "      <td>2.5</td>\n",
       "      <td>Intel Core i5</td>\n",
       "      <td>256</td>\n",
       "      <td>SSD</td>\n",
       "    </tr>\n",
       "    <tr>\n",
       "      <th>3</th>\n",
       "      <td>Apple</td>\n",
       "      <td>MacBook Pro</td>\n",
       "      <td>Ultrabook</td>\n",
       "      <td>15.4</td>\n",
       "      <td>2880x1800</td>\n",
       "      <td>Intel Core i7 2.7GHz</td>\n",
       "      <td>16</td>\n",
       "      <td>512GB SSD</td>\n",
       "      <td>AMD Radeon Pro 455</td>\n",
       "      <td>macOS</td>\n",
       "      <td>1.83</td>\n",
       "      <td>2537.45</td>\n",
       "      <td>2664.32</td>\n",
       "      <td>No</td>\n",
       "      <td>1</td>\n",
       "      <td>2.7</td>\n",
       "      <td>Intel Core i7</td>\n",
       "      <td>512</td>\n",
       "      <td>SSD</td>\n",
       "    </tr>\n",
       "    <tr>\n",
       "      <th>4</th>\n",
       "      <td>Apple</td>\n",
       "      <td>MacBook Pro</td>\n",
       "      <td>Ultrabook</td>\n",
       "      <td>13.3</td>\n",
       "      <td>2560x1600</td>\n",
       "      <td>Intel Core i5 3.1GHz</td>\n",
       "      <td>8</td>\n",
       "      <td>256GB SSD</td>\n",
       "      <td>Intel Iris Plus Graphics 650</td>\n",
       "      <td>macOS</td>\n",
       "      <td>1.37</td>\n",
       "      <td>1803.60</td>\n",
       "      <td>1893.78</td>\n",
       "      <td>No</td>\n",
       "      <td>1</td>\n",
       "      <td>3.1</td>\n",
       "      <td>Intel Core i5</td>\n",
       "      <td>256</td>\n",
       "      <td>SSD</td>\n",
       "    </tr>\n",
       "  </tbody>\n",
       "</table>\n",
       "</div>"
      ],
      "text/plain": [
       "  Company      Product   TypeName  Inches ScreenResolution  \\\n",
       "0   Apple  MacBook Pro  Ultrabook    13.3        2560x1600   \n",
       "1   Apple  Macbook Air  Ultrabook    13.3         1440x900   \n",
       "2      HP       250 G6   Notebook    15.6        1920x1080   \n",
       "3   Apple  MacBook Pro  Ultrabook    15.4        2880x1800   \n",
       "4   Apple  MacBook Pro  Ultrabook    13.3        2560x1600   \n",
       "\n",
       "                          Cpu Ram               Memory  \\\n",
       "0        Intel Core i5 2.3GHz   8            128GB SSD   \n",
       "1        Intel Core i5 1.8GHz   8  128GB Flash Storage   \n",
       "2  Intel Core i5 7200U 2.5GHz   8            256GB SSD   \n",
       "3        Intel Core i7 2.7GHz  16            512GB SSD   \n",
       "4        Intel Core i5 3.1GHz   8            256GB SSD   \n",
       "\n",
       "                            Gpu  OpSys Weight  Price_euros  Price_USD  \\\n",
       "0  Intel Iris Plus Graphics 640  macOS   1.37      1339.69    1406.67   \n",
       "1        Intel HD Graphics 6000  macOS   1.34       898.94     943.89   \n",
       "2         Intel HD Graphics 620  No OS   1.86       575.00     603.75   \n",
       "3            AMD Radeon Pro 455  macOS   1.83      2537.45    2664.32   \n",
       "4  Intel Iris Plus Graphics 650  macOS   1.37      1803.60    1893.78   \n",
       "\n",
       "  TouchScreen  Ips Cpu_Speed       Cpu_Type Storage_Size(GB)   Storage_Type  \n",
       "0          No    1       2.3  Intel Core i5              128            SSD  \n",
       "1          No    0       1.8  Intel Core i5              128  Flash Storage  \n",
       "2          No    0       2.5  Intel Core i5              256            SSD  \n",
       "3          No    1       2.7  Intel Core i7              512            SSD  \n",
       "4          No    1       3.1  Intel Core i5              256            SSD  "
      ]
     },
     "execution_count": 18,
     "metadata": {},
     "output_type": "execute_result"
    }
   ],
   "source": [
    "#Extracting only the numeric value of the weight \n",
    "laptop_data['Weight']=laptop_data['Weight'].str.replace(\"kg\", \"\")\n",
    "laptop_data.head()"
   ]
  },
  {
   "cell_type": "code",
   "execution_count": 19,
   "id": "6a41721e",
   "metadata": {},
   "outputs": [],
   "source": [
    "#Extract the Gpu vender name from the Gpu column values\n",
    "laptop_data['Gpu_vender']=laptop_data[\"Gpu\"].str.split(\" \").apply(lambda x: x[0])\n",
    "\n",
    "#Extract the Gpu  Type name from the Gpu column values\n",
    "laptop_data['Gpu_Type']=laptop_data[\"Gpu\"].str.split(\" \").apply(lambda x: x[1:])\n",
    "#Remove brackets\n",
    "laptop_data[\"Gpu_Type\"] = laptop_data[\"Gpu_Type\"].apply(lambda x: ' '.join(x))\n"
   ]
  },
  {
   "cell_type": "markdown",
   "id": "3311b9c3",
   "metadata": {},
   "source": [
    "#### Data Transformation\n",
    "We shall convert the following columns into their respective column types based on data contained\n",
    "1. Ram\n",
    "2. Weight\n",
    "4. Ips\n",
    "5. Cpu_Speed"
   ]
  },
  {
   "cell_type": "code",
   "execution_count": 20,
   "id": "6731eb8a",
   "metadata": {},
   "outputs": [],
   "source": [
    "#Transforming the data type of some columns that have numerical values\n",
    "\n",
    "laptop_data['Ram']=laptop_data['Ram'].astype('int')\n",
    "laptop_data['Weight']=laptop_data['Weight'].astype('float')\n",
    "\n"
   ]
  },
  {
   "cell_type": "code",
   "execution_count": 21,
   "id": "52c7db7a",
   "metadata": {},
   "outputs": [],
   "source": [
    "#Reaplce the text value and float point in storage size column\n",
    "laptop_data['Storage_Size(GB)']=laptop_data['Storage_Size(GB)'].str.replace(\"TB\", \"\")\n",
    "laptop_data['Storage_Size(GB)']=laptop_data['Storage_Size(GB)'].replace({'1.0':'1'})"
   ]
  },
  {
   "cell_type": "code",
   "execution_count": 22,
   "id": "e7b43e0f",
   "metadata": {},
   "outputs": [],
   "source": [
    "#Convert the TB storage value into it's equivalent storage type\n",
    "laptop_data['Storage_Size(GB)']=laptop_data['Storage_Size(GB)'].apply(lambda x: 1024 if x==1 else x)\n",
    "laptop_data['Storage_Size(GB)']=laptop_data['Storage_Size(GB)'].apply(lambda x: 2048 if x==2 else x)"
   ]
  },
  {
   "cell_type": "code",
   "execution_count": 23,
   "id": "fc6b3981",
   "metadata": {},
   "outputs": [],
   "source": [
    "laptop_data['OpSys']=laptop_data['OpSys'].str.replace(\"Mac OS X\",\"macOS\")"
   ]
  },
  {
   "cell_type": "code",
   "execution_count": 24,
   "id": "9d4ad0f7",
   "metadata": {},
   "outputs": [],
   "source": [
    "def findXresolution(s):\n",
    "    return s.split()[-1].split(\"x\")[0]\n",
    "def findYresolution(s):\n",
    "    return s.split()[-1].split(\"x\")[1]\n",
    "#finding the x_res and y_res from screen resolution\n",
    "laptop_data['X_res'] = laptop_data['ScreenResolution'].apply(lambda x: findXresolution(x))\n",
    "laptop_data['Y_res'] = laptop_data['ScreenResolution'].apply(lambda y: findYresolution(y))\n",
    "#convert to numeric\n",
    "laptop_data['X_res'] = laptop_data['X_res'].astype('int')\n",
    "laptop_data['Y_res'] = laptop_data['Y_res'].astype('int')\n",
    "\n",
    "laptop_data['ppi'] = (((laptop_data['X_res']**2) + (laptop_data['Y_res']**2))**0.5/laptop_data['Inches']).astype('float')"
   ]
  },
  {
   "cell_type": "code",
   "execution_count": 25,
   "id": "6170393f",
   "metadata": {
    "scrolled": true
   },
   "outputs": [],
   "source": [
    "laptop_data.drop(columns=['ScreenResolution','X_res','Y_res'],inplace=True)"
   ]
  },
  {
   "cell_type": "code",
   "execution_count": 26,
   "id": "98e4c83b",
   "metadata": {},
   "outputs": [
    {
     "data": {
      "text/html": [
       "<div>\n",
       "<style scoped>\n",
       "    .dataframe tbody tr th:only-of-type {\n",
       "        vertical-align: middle;\n",
       "    }\n",
       "\n",
       "    .dataframe tbody tr th {\n",
       "        vertical-align: top;\n",
       "    }\n",
       "\n",
       "    .dataframe thead th {\n",
       "        text-align: right;\n",
       "    }\n",
       "</style>\n",
       "<table border=\"1\" class=\"dataframe\">\n",
       "  <thead>\n",
       "    <tr style=\"text-align: right;\">\n",
       "      <th></th>\n",
       "      <th>Company</th>\n",
       "      <th>Product</th>\n",
       "      <th>TypeName</th>\n",
       "      <th>Inches</th>\n",
       "      <th>Cpu</th>\n",
       "      <th>Ram</th>\n",
       "      <th>Memory</th>\n",
       "      <th>Gpu</th>\n",
       "      <th>OpSys</th>\n",
       "      <th>Weight</th>\n",
       "      <th>...</th>\n",
       "      <th>Price_USD</th>\n",
       "      <th>TouchScreen</th>\n",
       "      <th>Ips</th>\n",
       "      <th>Cpu_Speed</th>\n",
       "      <th>Cpu_Type</th>\n",
       "      <th>Storage_Size(GB)</th>\n",
       "      <th>Storage_Type</th>\n",
       "      <th>Gpu_vender</th>\n",
       "      <th>Gpu_Type</th>\n",
       "      <th>ppi</th>\n",
       "    </tr>\n",
       "  </thead>\n",
       "  <tbody>\n",
       "    <tr>\n",
       "      <th>0</th>\n",
       "      <td>Apple</td>\n",
       "      <td>MacBook Pro</td>\n",
       "      <td>Ultrabook</td>\n",
       "      <td>13.3</td>\n",
       "      <td>Intel Core i5 2.3GHz</td>\n",
       "      <td>8</td>\n",
       "      <td>128GB SSD</td>\n",
       "      <td>Intel Iris Plus Graphics 640</td>\n",
       "      <td>macOS</td>\n",
       "      <td>1.37</td>\n",
       "      <td>...</td>\n",
       "      <td>1406.67</td>\n",
       "      <td>No</td>\n",
       "      <td>1</td>\n",
       "      <td>2.3</td>\n",
       "      <td>Intel Core i5</td>\n",
       "      <td>128</td>\n",
       "      <td>SSD</td>\n",
       "      <td>Intel</td>\n",
       "      <td>Iris Plus Graphics 640</td>\n",
       "      <td>226.983005</td>\n",
       "    </tr>\n",
       "    <tr>\n",
       "      <th>1</th>\n",
       "      <td>Apple</td>\n",
       "      <td>Macbook Air</td>\n",
       "      <td>Ultrabook</td>\n",
       "      <td>13.3</td>\n",
       "      <td>Intel Core i5 1.8GHz</td>\n",
       "      <td>8</td>\n",
       "      <td>128GB Flash Storage</td>\n",
       "      <td>Intel HD Graphics 6000</td>\n",
       "      <td>macOS</td>\n",
       "      <td>1.34</td>\n",
       "      <td>...</td>\n",
       "      <td>943.89</td>\n",
       "      <td>No</td>\n",
       "      <td>0</td>\n",
       "      <td>1.8</td>\n",
       "      <td>Intel Core i5</td>\n",
       "      <td>128</td>\n",
       "      <td>Flash Storage</td>\n",
       "      <td>Intel</td>\n",
       "      <td>HD Graphics 6000</td>\n",
       "      <td>127.677940</td>\n",
       "    </tr>\n",
       "    <tr>\n",
       "      <th>2</th>\n",
       "      <td>HP</td>\n",
       "      <td>250 G6</td>\n",
       "      <td>Notebook</td>\n",
       "      <td>15.6</td>\n",
       "      <td>Intel Core i5 7200U 2.5GHz</td>\n",
       "      <td>8</td>\n",
       "      <td>256GB SSD</td>\n",
       "      <td>Intel HD Graphics 620</td>\n",
       "      <td>No OS</td>\n",
       "      <td>1.86</td>\n",
       "      <td>...</td>\n",
       "      <td>603.75</td>\n",
       "      <td>No</td>\n",
       "      <td>0</td>\n",
       "      <td>2.5</td>\n",
       "      <td>Intel Core i5</td>\n",
       "      <td>256</td>\n",
       "      <td>SSD</td>\n",
       "      <td>Intel</td>\n",
       "      <td>HD Graphics 620</td>\n",
       "      <td>141.211998</td>\n",
       "    </tr>\n",
       "    <tr>\n",
       "      <th>3</th>\n",
       "      <td>Apple</td>\n",
       "      <td>MacBook Pro</td>\n",
       "      <td>Ultrabook</td>\n",
       "      <td>15.4</td>\n",
       "      <td>Intel Core i7 2.7GHz</td>\n",
       "      <td>16</td>\n",
       "      <td>512GB SSD</td>\n",
       "      <td>AMD Radeon Pro 455</td>\n",
       "      <td>macOS</td>\n",
       "      <td>1.83</td>\n",
       "      <td>...</td>\n",
       "      <td>2664.32</td>\n",
       "      <td>No</td>\n",
       "      <td>1</td>\n",
       "      <td>2.7</td>\n",
       "      <td>Intel Core i7</td>\n",
       "      <td>512</td>\n",
       "      <td>SSD</td>\n",
       "      <td>AMD</td>\n",
       "      <td>Radeon Pro 455</td>\n",
       "      <td>220.534624</td>\n",
       "    </tr>\n",
       "    <tr>\n",
       "      <th>4</th>\n",
       "      <td>Apple</td>\n",
       "      <td>MacBook Pro</td>\n",
       "      <td>Ultrabook</td>\n",
       "      <td>13.3</td>\n",
       "      <td>Intel Core i5 3.1GHz</td>\n",
       "      <td>8</td>\n",
       "      <td>256GB SSD</td>\n",
       "      <td>Intel Iris Plus Graphics 650</td>\n",
       "      <td>macOS</td>\n",
       "      <td>1.37</td>\n",
       "      <td>...</td>\n",
       "      <td>1893.78</td>\n",
       "      <td>No</td>\n",
       "      <td>1</td>\n",
       "      <td>3.1</td>\n",
       "      <td>Intel Core i5</td>\n",
       "      <td>256</td>\n",
       "      <td>SSD</td>\n",
       "      <td>Intel</td>\n",
       "      <td>Iris Plus Graphics 650</td>\n",
       "      <td>226.983005</td>\n",
       "    </tr>\n",
       "  </tbody>\n",
       "</table>\n",
       "<p>5 rows × 21 columns</p>\n",
       "</div>"
      ],
      "text/plain": [
       "  Company      Product   TypeName  Inches                         Cpu  Ram  \\\n",
       "0   Apple  MacBook Pro  Ultrabook    13.3        Intel Core i5 2.3GHz    8   \n",
       "1   Apple  Macbook Air  Ultrabook    13.3        Intel Core i5 1.8GHz    8   \n",
       "2      HP       250 G6   Notebook    15.6  Intel Core i5 7200U 2.5GHz    8   \n",
       "3   Apple  MacBook Pro  Ultrabook    15.4        Intel Core i7 2.7GHz   16   \n",
       "4   Apple  MacBook Pro  Ultrabook    13.3        Intel Core i5 3.1GHz    8   \n",
       "\n",
       "                Memory                           Gpu  OpSys  Weight  ...  \\\n",
       "0            128GB SSD  Intel Iris Plus Graphics 640  macOS    1.37  ...   \n",
       "1  128GB Flash Storage        Intel HD Graphics 6000  macOS    1.34  ...   \n",
       "2            256GB SSD         Intel HD Graphics 620  No OS    1.86  ...   \n",
       "3            512GB SSD            AMD Radeon Pro 455  macOS    1.83  ...   \n",
       "4            256GB SSD  Intel Iris Plus Graphics 650  macOS    1.37  ...   \n",
       "\n",
       "   Price_USD  TouchScreen Ips  Cpu_Speed       Cpu_Type Storage_Size(GB)  \\\n",
       "0    1406.67           No   1        2.3  Intel Core i5              128   \n",
       "1     943.89           No   0        1.8  Intel Core i5              128   \n",
       "2     603.75           No   0        2.5  Intel Core i5              256   \n",
       "3    2664.32           No   1        2.7  Intel Core i7              512   \n",
       "4    1893.78           No   1        3.1  Intel Core i5              256   \n",
       "\n",
       "    Storage_Type Gpu_vender                Gpu_Type         ppi  \n",
       "0            SSD      Intel  Iris Plus Graphics 640  226.983005  \n",
       "1  Flash Storage      Intel        HD Graphics 6000  127.677940  \n",
       "2            SSD      Intel         HD Graphics 620  141.211998  \n",
       "3            SSD        AMD          Radeon Pro 455  220.534624  \n",
       "4            SSD      Intel  Iris Plus Graphics 650  226.983005  \n",
       "\n",
       "[5 rows x 21 columns]"
      ]
     },
     "execution_count": 26,
     "metadata": {},
     "output_type": "execute_result"
    }
   ],
   "source": [
    "laptop_data.head()"
   ]
  },
  {
   "cell_type": "code",
   "execution_count": 27,
   "id": "7cb4afd1",
   "metadata": {},
   "outputs": [
    {
     "name": "stderr",
     "output_type": "stream",
     "text": [
      "<ipython-input-27-cc2b8f4a33c6>:12: FutureWarning: The default value of regex will change from True to False in a future version.\n",
      "  laptop_data['first'] = laptop_data['first'].str.replace(r'\\D', '')\n",
      "<ipython-input-27-cc2b8f4a33c6>:18: FutureWarning: The default value of regex will change from True to False in a future version.\n",
      "  laptop_data['second'] = laptop_data['second'].str.replace(r'\\D', '')\n"
     ]
    }
   ],
   "source": [
    "laptop_data['Memory'] = laptop_data['Memory'].astype(str).replace('\\.0', '', regex=True)\n",
    "laptop_data[\"Memory\"] = laptop_data[\"Memory\"].str.replace('GB', '')\n",
    "laptop_data[\"Memory\"] = laptop_data[\"Memory\"].str.replace('TB', '000')\n",
    "new2 = laptop_data[\"Memory\"].str.split(\"+\", n = 1, expand = True)\n",
    "laptop_data[\"first\"]= new2[0]\n",
    "laptop_data[\"first\"]=laptop_data[\"first\"].str.strip()\n",
    "laptop_data[\"second\"]= new2[1]\n",
    "laptop_data[\"Layer1HDD\"] = laptop_data[\"first\"].apply(lambda x: 1 if \"HDD\" in x else 0)\n",
    "laptop_data[\"Layer1SSD\"] = laptop_data[\"first\"].apply(lambda x: 1 if \"SSD\" in x else 0)\n",
    "laptop_data[\"Layer1Hybrid\"] = laptop_data[\"first\"].apply(lambda x: 1 if \"Hybrid\" in x else 0)\n",
    "laptop_data[\"Layer1Flash_Storage\"] = laptop_data[\"first\"].apply(lambda x: 1 if \"Flash Storage\" in x else 0)\n",
    "laptop_data['first'] = laptop_data['first'].str.replace(r'\\D', '')\n",
    "laptop_data[\"second\"].fillna(\"0\", inplace = True)\n",
    "laptop_data[\"Layer2HDD\"] = laptop_data[\"second\"].apply(lambda x: 1 if \"HDD\" in x else 0)\n",
    "laptop_data[\"Layer2SSD\"] = laptop_data[\"second\"].apply(lambda x: 1 if \"SSD\" in x else 0)\n",
    "laptop_data[\"Layer2Hybrid\"] = laptop_data[\"second\"].apply(lambda x: 1 if \"Hybrid\" in x else 0)\n",
    "laptop_data[\"Layer2Flash_Storage\"] = laptop_data[\"second\"].apply(lambda x: 1 if \"Flash Storage\" in x else 0)\n",
    "laptop_data['second'] = laptop_data['second'].str.replace(r'\\D', '')\n",
    "laptop_data[\"first\"] = laptop_data[\"first\"].astype(int)\n",
    "laptop_data[\"second\"] = laptop_data[\"second\"].astype(int)\n",
    "laptop_data[\"Total_Memory\"]=(laptop_data[\"first\"]*(laptop_data[\"Layer1HDD\"]+laptop_data[\"Layer1SSD\"]+laptop_data[\"Layer1Hybrid\"]+laptop_data[\"Layer1Flash_Storage\"])+laptop_data[\"second\"]*(laptop_data[\"Layer2HDD\"]+laptop_data[\"Layer2SSD\"]+laptop_data[\"Layer2Hybrid\"]+laptop_data[\"Layer2Flash_Storage\"]))\n",
    "laptop_data[\"Memory\"]=laptop_data[\"Total_Memory\"]\n",
    "laptop_data[\"HDD\"]=(laptop_data[\"first\"]*laptop_data[\"Layer1HDD\"]+laptop_data[\"second\"]*laptop_data[\"Layer2HDD\"])\n",
    "laptop_data[\"SSD\"]=(laptop_data[\"first\"]*laptop_data[\"Layer1SSD\"]+laptop_data[\"second\"]*laptop_data[\"Layer2SSD\"])\n",
    "laptop_data[\"Hybrid\"]=(laptop_data[\"first\"]*laptop_data[\"Layer1Hybrid\"]+laptop_data[\"second\"]*laptop_data[\"Layer2Hybrid\"])\n",
    "laptop_data[\"Flash_Storage\"]=(laptop_data[\"first\"]*laptop_data[\"Layer1Flash_Storage\"]+laptop_data[\"second\"]*laptop_data[\"Layer2Flash_Storage\"])\n",
    "laptop_data=laptop_data.drop(['first','second','Layer1HDD','Layer1SSD','Layer1Hybrid','Layer1Flash_Storage','Layer2HDD','Layer2SSD','Layer2Hybrid','Layer2Flash_Storage','Total_Memory'],axis=1)"
   ]
  },
  {
   "cell_type": "code",
   "execution_count": 28,
   "id": "8f9bd790",
   "metadata": {
    "scrolled": true
   },
   "outputs": [
    {
     "data": {
      "text/html": [
       "<div>\n",
       "<style scoped>\n",
       "    .dataframe tbody tr th:only-of-type {\n",
       "        vertical-align: middle;\n",
       "    }\n",
       "\n",
       "    .dataframe tbody tr th {\n",
       "        vertical-align: top;\n",
       "    }\n",
       "\n",
       "    .dataframe thead th {\n",
       "        text-align: right;\n",
       "    }\n",
       "</style>\n",
       "<table border=\"1\" class=\"dataframe\">\n",
       "  <thead>\n",
       "    <tr style=\"text-align: right;\">\n",
       "      <th></th>\n",
       "      <th>Company</th>\n",
       "      <th>TypeName</th>\n",
       "      <th>Inches</th>\n",
       "      <th>Cpu</th>\n",
       "      <th>Ram</th>\n",
       "      <th>Gpu</th>\n",
       "      <th>OpSys</th>\n",
       "      <th>Weight</th>\n",
       "      <th>Price_USD</th>\n",
       "      <th>TouchScreen</th>\n",
       "      <th>Ips</th>\n",
       "      <th>Cpu_Speed</th>\n",
       "      <th>Cpu_Type</th>\n",
       "      <th>Gpu_vender</th>\n",
       "      <th>ppi</th>\n",
       "      <th>HDD</th>\n",
       "      <th>SSD</th>\n",
       "    </tr>\n",
       "  </thead>\n",
       "  <tbody>\n",
       "    <tr>\n",
       "      <th>0</th>\n",
       "      <td>Apple</td>\n",
       "      <td>Ultrabook</td>\n",
       "      <td>13.3</td>\n",
       "      <td>Intel Core i5 2.3GHz</td>\n",
       "      <td>8</td>\n",
       "      <td>Intel Iris Plus Graphics 640</td>\n",
       "      <td>macOS</td>\n",
       "      <td>1.37</td>\n",
       "      <td>1406.67</td>\n",
       "      <td>No</td>\n",
       "      <td>1</td>\n",
       "      <td>2.3</td>\n",
       "      <td>Intel Core i5</td>\n",
       "      <td>Intel</td>\n",
       "      <td>226.983005</td>\n",
       "      <td>0</td>\n",
       "      <td>128</td>\n",
       "    </tr>\n",
       "    <tr>\n",
       "      <th>1</th>\n",
       "      <td>Apple</td>\n",
       "      <td>Ultrabook</td>\n",
       "      <td>13.3</td>\n",
       "      <td>Intel Core i5 1.8GHz</td>\n",
       "      <td>8</td>\n",
       "      <td>Intel HD Graphics 6000</td>\n",
       "      <td>macOS</td>\n",
       "      <td>1.34</td>\n",
       "      <td>943.89</td>\n",
       "      <td>No</td>\n",
       "      <td>0</td>\n",
       "      <td>1.8</td>\n",
       "      <td>Intel Core i5</td>\n",
       "      <td>Intel</td>\n",
       "      <td>127.677940</td>\n",
       "      <td>0</td>\n",
       "      <td>0</td>\n",
       "    </tr>\n",
       "    <tr>\n",
       "      <th>2</th>\n",
       "      <td>HP</td>\n",
       "      <td>Notebook</td>\n",
       "      <td>15.6</td>\n",
       "      <td>Intel Core i5 7200U 2.5GHz</td>\n",
       "      <td>8</td>\n",
       "      <td>Intel HD Graphics 620</td>\n",
       "      <td>No OS</td>\n",
       "      <td>1.86</td>\n",
       "      <td>603.75</td>\n",
       "      <td>No</td>\n",
       "      <td>0</td>\n",
       "      <td>2.5</td>\n",
       "      <td>Intel Core i5</td>\n",
       "      <td>Intel</td>\n",
       "      <td>141.211998</td>\n",
       "      <td>0</td>\n",
       "      <td>256</td>\n",
       "    </tr>\n",
       "    <tr>\n",
       "      <th>3</th>\n",
       "      <td>Apple</td>\n",
       "      <td>Ultrabook</td>\n",
       "      <td>15.4</td>\n",
       "      <td>Intel Core i7 2.7GHz</td>\n",
       "      <td>16</td>\n",
       "      <td>AMD Radeon Pro 455</td>\n",
       "      <td>macOS</td>\n",
       "      <td>1.83</td>\n",
       "      <td>2664.32</td>\n",
       "      <td>No</td>\n",
       "      <td>1</td>\n",
       "      <td>2.7</td>\n",
       "      <td>Intel Core i7</td>\n",
       "      <td>AMD</td>\n",
       "      <td>220.534624</td>\n",
       "      <td>0</td>\n",
       "      <td>512</td>\n",
       "    </tr>\n",
       "    <tr>\n",
       "      <th>4</th>\n",
       "      <td>Apple</td>\n",
       "      <td>Ultrabook</td>\n",
       "      <td>13.3</td>\n",
       "      <td>Intel Core i5 3.1GHz</td>\n",
       "      <td>8</td>\n",
       "      <td>Intel Iris Plus Graphics 650</td>\n",
       "      <td>macOS</td>\n",
       "      <td>1.37</td>\n",
       "      <td>1893.78</td>\n",
       "      <td>No</td>\n",
       "      <td>1</td>\n",
       "      <td>3.1</td>\n",
       "      <td>Intel Core i5</td>\n",
       "      <td>Intel</td>\n",
       "      <td>226.983005</td>\n",
       "      <td>0</td>\n",
       "      <td>256</td>\n",
       "    </tr>\n",
       "  </tbody>\n",
       "</table>\n",
       "</div>"
      ],
      "text/plain": [
       "  Company   TypeName  Inches                         Cpu  Ram  \\\n",
       "0   Apple  Ultrabook    13.3        Intel Core i5 2.3GHz    8   \n",
       "1   Apple  Ultrabook    13.3        Intel Core i5 1.8GHz    8   \n",
       "2      HP   Notebook    15.6  Intel Core i5 7200U 2.5GHz    8   \n",
       "3   Apple  Ultrabook    15.4        Intel Core i7 2.7GHz   16   \n",
       "4   Apple  Ultrabook    13.3        Intel Core i5 3.1GHz    8   \n",
       "\n",
       "                            Gpu  OpSys  Weight  Price_USD TouchScreen  Ips  \\\n",
       "0  Intel Iris Plus Graphics 640  macOS    1.37    1406.67          No    1   \n",
       "1        Intel HD Graphics 6000  macOS    1.34     943.89          No    0   \n",
       "2         Intel HD Graphics 620  No OS    1.86     603.75          No    0   \n",
       "3            AMD Radeon Pro 455  macOS    1.83    2664.32          No    1   \n",
       "4  Intel Iris Plus Graphics 650  macOS    1.37    1893.78          No    1   \n",
       "\n",
       "  Cpu_Speed       Cpu_Type Gpu_vender         ppi  HDD  SSD  \n",
       "0       2.3  Intel Core i5      Intel  226.983005    0  128  \n",
       "1       1.8  Intel Core i5      Intel  127.677940    0    0  \n",
       "2       2.5  Intel Core i5      Intel  141.211998    0  256  \n",
       "3       2.7  Intel Core i7        AMD  220.534624    0  512  \n",
       "4       3.1  Intel Core i5      Intel  226.983005    0  256  "
      ]
     },
     "execution_count": 28,
     "metadata": {},
     "output_type": "execute_result"
    }
   ],
   "source": [
    "laptop_data.drop(columns=['Hybrid','Product','Memory','Gpu_Type','Flash_Storage','Storage_Size(GB)','Storage_Type','Price_euros'],inplace=True)\n",
    "laptop_data.head()"
   ]
  },
  {
   "cell_type": "code",
   "execution_count": 29,
   "id": "74b90d78",
   "metadata": {},
   "outputs": [
    {
     "data": {
      "text/html": [
       "<div>\n",
       "<style scoped>\n",
       "    .dataframe tbody tr th:only-of-type {\n",
       "        vertical-align: middle;\n",
       "    }\n",
       "\n",
       "    .dataframe tbody tr th {\n",
       "        vertical-align: top;\n",
       "    }\n",
       "\n",
       "    .dataframe thead th {\n",
       "        text-align: right;\n",
       "    }\n",
       "</style>\n",
       "<table border=\"1\" class=\"dataframe\">\n",
       "  <thead>\n",
       "    <tr style=\"text-align: right;\">\n",
       "      <th></th>\n",
       "      <th>Company</th>\n",
       "      <th>TypeName</th>\n",
       "      <th>Inches</th>\n",
       "      <th>Cpu</th>\n",
       "      <th>Ram</th>\n",
       "      <th>Gpu</th>\n",
       "      <th>OpSys</th>\n",
       "      <th>Weight</th>\n",
       "      <th>Price_USD</th>\n",
       "      <th>TouchScreen</th>\n",
       "      <th>Ips</th>\n",
       "      <th>Cpu_Speed</th>\n",
       "      <th>Cpu_Type</th>\n",
       "      <th>Gpu_vender</th>\n",
       "      <th>ppi</th>\n",
       "      <th>HDD</th>\n",
       "      <th>SSD</th>\n",
       "    </tr>\n",
       "  </thead>\n",
       "  <tbody>\n",
       "    <tr>\n",
       "      <th>0</th>\n",
       "      <td>Apple</td>\n",
       "      <td>Ultrabook</td>\n",
       "      <td>13.3</td>\n",
       "      <td>Intel Core i5 2.3GHz</td>\n",
       "      <td>8</td>\n",
       "      <td>Intel Iris Plus Graphics 640</td>\n",
       "      <td>macOS</td>\n",
       "      <td>1.37</td>\n",
       "      <td>1406.67</td>\n",
       "      <td>No</td>\n",
       "      <td>1</td>\n",
       "      <td>2.3</td>\n",
       "      <td>Intel Core i5</td>\n",
       "      <td>Intel</td>\n",
       "      <td>226.983005</td>\n",
       "      <td>0</td>\n",
       "      <td>128</td>\n",
       "    </tr>\n",
       "    <tr>\n",
       "      <th>1</th>\n",
       "      <td>Apple</td>\n",
       "      <td>Ultrabook</td>\n",
       "      <td>13.3</td>\n",
       "      <td>Intel Core i5 1.8GHz</td>\n",
       "      <td>8</td>\n",
       "      <td>Intel HD Graphics 6000</td>\n",
       "      <td>macOS</td>\n",
       "      <td>1.34</td>\n",
       "      <td>943.89</td>\n",
       "      <td>No</td>\n",
       "      <td>0</td>\n",
       "      <td>1.8</td>\n",
       "      <td>Intel Core i5</td>\n",
       "      <td>Intel</td>\n",
       "      <td>127.677940</td>\n",
       "      <td>0</td>\n",
       "      <td>0</td>\n",
       "    </tr>\n",
       "    <tr>\n",
       "      <th>2</th>\n",
       "      <td>HP</td>\n",
       "      <td>Notebook</td>\n",
       "      <td>15.6</td>\n",
       "      <td>Intel Core i5 7200U 2.5GHz</td>\n",
       "      <td>8</td>\n",
       "      <td>Intel HD Graphics 620</td>\n",
       "      <td>No OS</td>\n",
       "      <td>1.86</td>\n",
       "      <td>603.75</td>\n",
       "      <td>No</td>\n",
       "      <td>0</td>\n",
       "      <td>2.5</td>\n",
       "      <td>Intel Core i5</td>\n",
       "      <td>Intel</td>\n",
       "      <td>141.211998</td>\n",
       "      <td>0</td>\n",
       "      <td>256</td>\n",
       "    </tr>\n",
       "    <tr>\n",
       "      <th>3</th>\n",
       "      <td>Apple</td>\n",
       "      <td>Ultrabook</td>\n",
       "      <td>15.4</td>\n",
       "      <td>Intel Core i7 2.7GHz</td>\n",
       "      <td>16</td>\n",
       "      <td>AMD Radeon Pro 455</td>\n",
       "      <td>macOS</td>\n",
       "      <td>1.83</td>\n",
       "      <td>2664.32</td>\n",
       "      <td>No</td>\n",
       "      <td>1</td>\n",
       "      <td>2.7</td>\n",
       "      <td>Intel Core i7</td>\n",
       "      <td>AMD</td>\n",
       "      <td>220.534624</td>\n",
       "      <td>0</td>\n",
       "      <td>512</td>\n",
       "    </tr>\n",
       "    <tr>\n",
       "      <th>4</th>\n",
       "      <td>Apple</td>\n",
       "      <td>Ultrabook</td>\n",
       "      <td>13.3</td>\n",
       "      <td>Intel Core i5 3.1GHz</td>\n",
       "      <td>8</td>\n",
       "      <td>Intel Iris Plus Graphics 650</td>\n",
       "      <td>macOS</td>\n",
       "      <td>1.37</td>\n",
       "      <td>1893.78</td>\n",
       "      <td>No</td>\n",
       "      <td>1</td>\n",
       "      <td>3.1</td>\n",
       "      <td>Intel Core i5</td>\n",
       "      <td>Intel</td>\n",
       "      <td>226.983005</td>\n",
       "      <td>0</td>\n",
       "      <td>256</td>\n",
       "    </tr>\n",
       "  </tbody>\n",
       "</table>\n",
       "</div>"
      ],
      "text/plain": [
       "  Company   TypeName  Inches                         Cpu  Ram  \\\n",
       "0   Apple  Ultrabook    13.3        Intel Core i5 2.3GHz    8   \n",
       "1   Apple  Ultrabook    13.3        Intel Core i5 1.8GHz    8   \n",
       "2      HP   Notebook    15.6  Intel Core i5 7200U 2.5GHz    8   \n",
       "3   Apple  Ultrabook    15.4        Intel Core i7 2.7GHz   16   \n",
       "4   Apple  Ultrabook    13.3        Intel Core i5 3.1GHz    8   \n",
       "\n",
       "                            Gpu  OpSys  Weight  Price_USD TouchScreen  Ips  \\\n",
       "0  Intel Iris Plus Graphics 640  macOS    1.37    1406.67          No    1   \n",
       "1        Intel HD Graphics 6000  macOS    1.34     943.89          No    0   \n",
       "2         Intel HD Graphics 620  No OS    1.86     603.75          No    0   \n",
       "3            AMD Radeon Pro 455  macOS    1.83    2664.32          No    1   \n",
       "4  Intel Iris Plus Graphics 650  macOS    1.37    1893.78          No    1   \n",
       "\n",
       "  Cpu_Speed       Cpu_Type Gpu_vender         ppi  HDD  SSD  \n",
       "0       2.3  Intel Core i5      Intel  226.983005    0  128  \n",
       "1       1.8  Intel Core i5      Intel  127.677940    0    0  \n",
       "2       2.5  Intel Core i5      Intel  141.211998    0  256  \n",
       "3       2.7  Intel Core i7        AMD  220.534624    0  512  \n",
       "4       3.1  Intel Core i5      Intel  226.983005    0  256  "
      ]
     },
     "execution_count": 29,
     "metadata": {},
     "output_type": "execute_result"
    }
   ],
   "source": [
    "laptop_data.head()"
   ]
  },
  {
   "cell_type": "markdown",
   "id": "547d7261",
   "metadata": {},
   "source": [
    "#### Coming up with a new dataset from with selected columns for our use."
   ]
  },
  {
   "cell_type": "code",
   "execution_count": 30,
   "id": "e11833d3",
   "metadata": {},
   "outputs": [
    {
     "data": {
      "text/html": [
       "<div>\n",
       "<style scoped>\n",
       "    .dataframe tbody tr th:only-of-type {\n",
       "        vertical-align: middle;\n",
       "    }\n",
       "\n",
       "    .dataframe tbody tr th {\n",
       "        vertical-align: top;\n",
       "    }\n",
       "\n",
       "    .dataframe thead th {\n",
       "        text-align: right;\n",
       "    }\n",
       "</style>\n",
       "<table border=\"1\" class=\"dataframe\">\n",
       "  <thead>\n",
       "    <tr style=\"text-align: right;\">\n",
       "      <th></th>\n",
       "      <th>Company</th>\n",
       "      <th>TypeName</th>\n",
       "      <th>Inches</th>\n",
       "      <th>Ram</th>\n",
       "      <th>OpSys</th>\n",
       "      <th>Weight</th>\n",
       "      <th>TouchScreen</th>\n",
       "      <th>Ips</th>\n",
       "      <th>Cpu_Speed</th>\n",
       "      <th>Cpu_Type</th>\n",
       "      <th>Gpu_vender</th>\n",
       "      <th>HDD</th>\n",
       "      <th>SSD</th>\n",
       "      <th>ppi</th>\n",
       "      <th>Price_USD</th>\n",
       "    </tr>\n",
       "  </thead>\n",
       "  <tbody>\n",
       "    <tr>\n",
       "      <th>0</th>\n",
       "      <td>Apple</td>\n",
       "      <td>Ultrabook</td>\n",
       "      <td>13.3</td>\n",
       "      <td>8</td>\n",
       "      <td>macOS</td>\n",
       "      <td>1.37</td>\n",
       "      <td>No</td>\n",
       "      <td>1</td>\n",
       "      <td>2.3</td>\n",
       "      <td>Intel Core i5</td>\n",
       "      <td>Intel</td>\n",
       "      <td>0</td>\n",
       "      <td>128</td>\n",
       "      <td>226.983005</td>\n",
       "      <td>1406.67</td>\n",
       "    </tr>\n",
       "    <tr>\n",
       "      <th>1</th>\n",
       "      <td>Apple</td>\n",
       "      <td>Ultrabook</td>\n",
       "      <td>13.3</td>\n",
       "      <td>8</td>\n",
       "      <td>macOS</td>\n",
       "      <td>1.34</td>\n",
       "      <td>No</td>\n",
       "      <td>0</td>\n",
       "      <td>1.8</td>\n",
       "      <td>Intel Core i5</td>\n",
       "      <td>Intel</td>\n",
       "      <td>0</td>\n",
       "      <td>0</td>\n",
       "      <td>127.677940</td>\n",
       "      <td>943.89</td>\n",
       "    </tr>\n",
       "    <tr>\n",
       "      <th>2</th>\n",
       "      <td>HP</td>\n",
       "      <td>Notebook</td>\n",
       "      <td>15.6</td>\n",
       "      <td>8</td>\n",
       "      <td>No OS</td>\n",
       "      <td>1.86</td>\n",
       "      <td>No</td>\n",
       "      <td>0</td>\n",
       "      <td>2.5</td>\n",
       "      <td>Intel Core i5</td>\n",
       "      <td>Intel</td>\n",
       "      <td>0</td>\n",
       "      <td>256</td>\n",
       "      <td>141.211998</td>\n",
       "      <td>603.75</td>\n",
       "    </tr>\n",
       "    <tr>\n",
       "      <th>3</th>\n",
       "      <td>Apple</td>\n",
       "      <td>Ultrabook</td>\n",
       "      <td>15.4</td>\n",
       "      <td>16</td>\n",
       "      <td>macOS</td>\n",
       "      <td>1.83</td>\n",
       "      <td>No</td>\n",
       "      <td>1</td>\n",
       "      <td>2.7</td>\n",
       "      <td>Intel Core i7</td>\n",
       "      <td>AMD</td>\n",
       "      <td>0</td>\n",
       "      <td>512</td>\n",
       "      <td>220.534624</td>\n",
       "      <td>2664.32</td>\n",
       "    </tr>\n",
       "    <tr>\n",
       "      <th>4</th>\n",
       "      <td>Apple</td>\n",
       "      <td>Ultrabook</td>\n",
       "      <td>13.3</td>\n",
       "      <td>8</td>\n",
       "      <td>macOS</td>\n",
       "      <td>1.37</td>\n",
       "      <td>No</td>\n",
       "      <td>1</td>\n",
       "      <td>3.1</td>\n",
       "      <td>Intel Core i5</td>\n",
       "      <td>Intel</td>\n",
       "      <td>0</td>\n",
       "      <td>256</td>\n",
       "      <td>226.983005</td>\n",
       "      <td>1893.78</td>\n",
       "    </tr>\n",
       "  </tbody>\n",
       "</table>\n",
       "</div>"
      ],
      "text/plain": [
       "  Company   TypeName  Inches  Ram  OpSys  Weight TouchScreen  Ips Cpu_Speed  \\\n",
       "0   Apple  Ultrabook    13.3    8  macOS    1.37          No    1       2.3   \n",
       "1   Apple  Ultrabook    13.3    8  macOS    1.34          No    0       1.8   \n",
       "2      HP   Notebook    15.6    8  No OS    1.86          No    0       2.5   \n",
       "3   Apple  Ultrabook    15.4   16  macOS    1.83          No    1       2.7   \n",
       "4   Apple  Ultrabook    13.3    8  macOS    1.37          No    1       3.1   \n",
       "\n",
       "        Cpu_Type Gpu_vender  HDD  SSD         ppi  Price_USD  \n",
       "0  Intel Core i5      Intel    0  128  226.983005    1406.67  \n",
       "1  Intel Core i5      Intel    0    0  127.677940     943.89  \n",
       "2  Intel Core i5      Intel    0  256  141.211998     603.75  \n",
       "3  Intel Core i7        AMD    0  512  220.534624    2664.32  \n",
       "4  Intel Core i5      Intel    0  256  226.983005    1893.78  "
      ]
     },
     "execution_count": 30,
     "metadata": {},
     "output_type": "execute_result"
    }
   ],
   "source": [
    "cleaned=laptop_data.reindex(columns=[\"Company\",\"TypeName\",'Inches',\"Ram\",\"OpSys\",\"Weight\",\"TouchScreen\",\"Ips\",\n",
    "                             \"Cpu_Speed\",\"Cpu_Type\",\"Gpu_vender\",\"HDD\",\"SSD\",\"ppi\",\"Price_USD\"])\n",
    "\n",
    "cleaned.head()"
   ]
  },
  {
   "cell_type": "code",
   "execution_count": 133,
   "id": "4de12a0b",
   "metadata": {},
   "outputs": [],
   "source": [
    "#Save the new dataframe into a csv file\n",
    "cleaned.to_csv('D:/DS/dataset/laptop_data_cleaned.csv',index=False)"
   ]
  },
  {
   "cell_type": "code",
   "execution_count": 76,
   "id": "d7772311",
   "metadata": {},
   "outputs": [],
   "source": [
    "laptop_cleaned=pd.read_csv('D:/DS/dataset/laptop_data_cleaned.csv')"
   ]
  },
  {
   "cell_type": "code",
   "execution_count": 78,
   "id": "4d265c05",
   "metadata": {},
   "outputs": [
    {
     "data": {
      "text/html": [
       "<div>\n",
       "<style scoped>\n",
       "    .dataframe tbody tr th:only-of-type {\n",
       "        vertical-align: middle;\n",
       "    }\n",
       "\n",
       "    .dataframe tbody tr th {\n",
       "        vertical-align: top;\n",
       "    }\n",
       "\n",
       "    .dataframe thead th {\n",
       "        text-align: right;\n",
       "    }\n",
       "</style>\n",
       "<table border=\"1\" class=\"dataframe\">\n",
       "  <thead>\n",
       "    <tr style=\"text-align: right;\">\n",
       "      <th></th>\n",
       "      <th>Company</th>\n",
       "      <th>TypeName</th>\n",
       "      <th>Inches</th>\n",
       "      <th>Ram</th>\n",
       "      <th>OpSys</th>\n",
       "      <th>Weight</th>\n",
       "      <th>TouchScreen</th>\n",
       "      <th>Ips</th>\n",
       "      <th>Cpu_Speed</th>\n",
       "      <th>Cpu_Type</th>\n",
       "      <th>Gpu_vender</th>\n",
       "      <th>HDD</th>\n",
       "      <th>SSD</th>\n",
       "      <th>ppi</th>\n",
       "      <th>Price_USD</th>\n",
       "    </tr>\n",
       "  </thead>\n",
       "  <tbody>\n",
       "    <tr>\n",
       "      <th>0</th>\n",
       "      <td>Apple</td>\n",
       "      <td>Ultrabook</td>\n",
       "      <td>13.3</td>\n",
       "      <td>8</td>\n",
       "      <td>macOS</td>\n",
       "      <td>1.37</td>\n",
       "      <td>No</td>\n",
       "      <td>1</td>\n",
       "      <td>2.3</td>\n",
       "      <td>Intel Core i5</td>\n",
       "      <td>Intel</td>\n",
       "      <td>0</td>\n",
       "      <td>128</td>\n",
       "      <td>226.983005</td>\n",
       "      <td>1406.67</td>\n",
       "    </tr>\n",
       "    <tr>\n",
       "      <th>1</th>\n",
       "      <td>Apple</td>\n",
       "      <td>Ultrabook</td>\n",
       "      <td>13.3</td>\n",
       "      <td>8</td>\n",
       "      <td>macOS</td>\n",
       "      <td>1.34</td>\n",
       "      <td>No</td>\n",
       "      <td>0</td>\n",
       "      <td>1.8</td>\n",
       "      <td>Intel Core i5</td>\n",
       "      <td>Intel</td>\n",
       "      <td>0</td>\n",
       "      <td>0</td>\n",
       "      <td>127.677940</td>\n",
       "      <td>943.89</td>\n",
       "    </tr>\n",
       "    <tr>\n",
       "      <th>2</th>\n",
       "      <td>HP</td>\n",
       "      <td>Notebook</td>\n",
       "      <td>15.6</td>\n",
       "      <td>8</td>\n",
       "      <td>No OS</td>\n",
       "      <td>1.86</td>\n",
       "      <td>No</td>\n",
       "      <td>0</td>\n",
       "      <td>2.5</td>\n",
       "      <td>Intel Core i5</td>\n",
       "      <td>Intel</td>\n",
       "      <td>0</td>\n",
       "      <td>256</td>\n",
       "      <td>141.211998</td>\n",
       "      <td>603.75</td>\n",
       "    </tr>\n",
       "    <tr>\n",
       "      <th>3</th>\n",
       "      <td>Apple</td>\n",
       "      <td>Ultrabook</td>\n",
       "      <td>15.4</td>\n",
       "      <td>16</td>\n",
       "      <td>macOS</td>\n",
       "      <td>1.83</td>\n",
       "      <td>No</td>\n",
       "      <td>1</td>\n",
       "      <td>2.7</td>\n",
       "      <td>Intel Core i7</td>\n",
       "      <td>AMD</td>\n",
       "      <td>0</td>\n",
       "      <td>512</td>\n",
       "      <td>220.534624</td>\n",
       "      <td>2664.32</td>\n",
       "    </tr>\n",
       "    <tr>\n",
       "      <th>4</th>\n",
       "      <td>Apple</td>\n",
       "      <td>Ultrabook</td>\n",
       "      <td>13.3</td>\n",
       "      <td>8</td>\n",
       "      <td>macOS</td>\n",
       "      <td>1.37</td>\n",
       "      <td>No</td>\n",
       "      <td>1</td>\n",
       "      <td>3.1</td>\n",
       "      <td>Intel Core i5</td>\n",
       "      <td>Intel</td>\n",
       "      <td>0</td>\n",
       "      <td>256</td>\n",
       "      <td>226.983005</td>\n",
       "      <td>1893.78</td>\n",
       "    </tr>\n",
       "  </tbody>\n",
       "</table>\n",
       "</div>"
      ],
      "text/plain": [
       "  Company   TypeName  Inches  Ram  OpSys  Weight TouchScreen  Ips  Cpu_Speed  \\\n",
       "0   Apple  Ultrabook    13.3    8  macOS    1.37          No    1        2.3   \n",
       "1   Apple  Ultrabook    13.3    8  macOS    1.34          No    0        1.8   \n",
       "2      HP   Notebook    15.6    8  No OS    1.86          No    0        2.5   \n",
       "3   Apple  Ultrabook    15.4   16  macOS    1.83          No    1        2.7   \n",
       "4   Apple  Ultrabook    13.3    8  macOS    1.37          No    1        3.1   \n",
       "\n",
       "        Cpu_Type Gpu_vender  HDD  SSD         ppi  Price_USD  \n",
       "0  Intel Core i5      Intel    0  128  226.983005    1406.67  \n",
       "1  Intel Core i5      Intel    0    0  127.677940     943.89  \n",
       "2  Intel Core i5      Intel    0  256  141.211998     603.75  \n",
       "3  Intel Core i7        AMD    0  512  220.534624    2664.32  \n",
       "4  Intel Core i5      Intel    0  256  226.983005    1893.78  "
      ]
     },
     "execution_count": 78,
     "metadata": {},
     "output_type": "execute_result"
    }
   ],
   "source": [
    "laptop_cleaned.head()"
   ]
  },
  {
   "cell_type": "markdown",
   "id": "12078bcb",
   "metadata": {},
   "source": [
    "### Exploratory Data Analysis"
   ]
  },
  {
   "cell_type": "code",
   "execution_count": 10,
   "id": "ad01b195",
   "metadata": {},
   "outputs": [
    {
     "name": "stdout",
     "output_type": "stream",
     "text": [
      "<class 'pandas.core.frame.DataFrame'>\n",
      "RangeIndex: 1303 entries, 0 to 1302\n",
      "Data columns (total 15 columns):\n",
      " #   Column       Non-Null Count  Dtype  \n",
      "---  ------       --------------  -----  \n",
      " 0   Company      1303 non-null   object \n",
      " 1   TypeName     1303 non-null   object \n",
      " 2   Inches       1303 non-null   float64\n",
      " 3   Ram          1303 non-null   int64  \n",
      " 4   OpSys        1303 non-null   object \n",
      " 5   Weight       1303 non-null   float64\n",
      " 6   TouchScreen  1303 non-null   object \n",
      " 7   Ips          1303 non-null   int64  \n",
      " 8   Cpu_Speed    1303 non-null   float64\n",
      " 9   Cpu_Type     1303 non-null   object \n",
      " 10  Gpu_vender   1303 non-null   object \n",
      " 11  HDD          1303 non-null   int64  \n",
      " 12  SSD          1303 non-null   int64  \n",
      " 13  ppi          1303 non-null   float64\n",
      " 14  Price_USD    1303 non-null   float64\n",
      "dtypes: float64(5), int64(4), object(6)\n",
      "memory usage: 152.8+ KB\n"
     ]
    }
   ],
   "source": [
    "#Info of our new cleaned dataset \n",
    "laptop_cleaned.info()"
   ]
  },
  {
   "cell_type": "markdown",
   "id": "0fc6c0cc",
   "metadata": {},
   "source": [
    "#### Laptop distribution per company "
   ]
  },
  {
   "cell_type": "code",
   "execution_count": 11,
   "id": "17d6e183",
   "metadata": {
    "scrolled": false
   },
   "outputs": [
    {
     "data": {
      "text/plain": [
       "<AxesSubplot:>"
      ]
     },
     "execution_count": 11,
     "metadata": {},
     "output_type": "execute_result"
    },
    {
     "data": {
      "image/png": "[encoded data removed]",
      "text/plain": [
       "<Figure size 648x360 with 1 Axes>"
      ]
     },
     "metadata": {
      "needs_background": "light"
     },
     "output_type": "display_data"
    }
   ],
   "source": [
    "plt.figure(figsize=(9,5))\n",
    "laptop_cleaned['Company'].value_counts().plot(kind='bar')"
   ]
  },
  {
   "cell_type": "code",
   "execution_count": 12,
   "id": "f470f215",
   "metadata": {},
   "outputs": [
    {
     "data": {
      "text/plain": [
       "Dell         22.793553\n",
       "Lenovo       22.793553\n",
       "HP           21.028396\n",
       "Asus         12.125863\n",
       "Acer          7.904835\n",
       "MSI           4.144282\n",
       "Toshiba       3.683807\n",
       "Apple         1.611665\n",
       "Samsung       0.690714\n",
       "Mediacom      0.537222\n",
       "Razer         0.537222\n",
       "Microsoft     0.460476\n",
       "Vero          0.306984\n",
       "Xiaomi        0.306984\n",
       "Google        0.230238\n",
       "LG            0.230238\n",
       "Fujitsu       0.230238\n",
       "Chuwi         0.230238\n",
       "Huawei        0.153492\n",
       "Name: Company, dtype: float64"
      ]
     },
     "execution_count": 12,
     "metadata": {},
     "output_type": "execute_result"
    }
   ],
   "source": [
    "(laptop_cleaned['Company'].value_counts()/sum(laptop_cleaned['Company'].value_counts()))*100"
   ]
  },
  {
   "cell_type": "markdown",
   "id": "633cc20b",
   "metadata": {},
   "source": [
    "We have more stock of Lenovo,Dell and Hp laptops comprising of 63% of the total laptop companies being sold."
   ]
  },
  {
   "cell_type": "markdown",
   "id": "44ac54d6",
   "metadata": {},
   "source": [
    "#### Comparing the average price to the TypeName of the laptop\n"
   ]
  },
  {
   "cell_type": "code",
   "execution_count": 39,
   "id": "6d33330e",
   "metadata": {
    "scrolled": true
   },
   "outputs": [
    {
     "data": {
      "image/png": "[encoded data removed]",
      "text/plain": [
       "<Figure size 720x360 with 1 Axes>"
      ]
     },
     "metadata": {
      "needs_background": "light"
     },
     "output_type": "display_data"
    }
   ],
   "source": [
    "plt.subplots(figsize=(10,5))\n",
    "sns.barplot(x='TypeName',y='Price_USD',data=laptop_cleaned);\n"
   ]
  },
  {
   "cell_type": "markdown",
   "id": "f6bf7eb4",
   "metadata": {},
   "source": [
    "Workstations are on average the most expensive laptop in stock followed by Gaming laptops,Ultrabook,2 in 1 Convertible then Notebook and Netbook respectively."
   ]
  },
  {
   "cell_type": "markdown",
   "id": "f69ebf27",
   "metadata": {},
   "source": [
    "#### Laptop  TypeName  distribution"
   ]
  },
  {
   "cell_type": "code",
   "execution_count": 13,
   "id": "63a70e0d",
   "metadata": {},
   "outputs": [
    {
     "data": {
      "text/plain": [
       "<AxesSubplot:>"
      ]
     },
     "execution_count": 13,
     "metadata": {},
     "output_type": "execute_result"
    },
    {
     "data": {
      "image/png": "[encoded data removed]",
      "text/plain": [
       "<Figure size 720x360 with 1 Axes>"
      ]
     },
     "metadata": {
      "needs_background": "light"
     },
     "output_type": "display_data"
    }
   ],
   "source": [
    "plt.subplots(figsize=(10,5))\n",
    "laptop_cleaned['TypeName'].value_counts().plot(kind='bar')"
   ]
  },
  {
   "cell_type": "code",
   "execution_count": 14,
   "id": "9f882b4e",
   "metadata": {
    "scrolled": true
   },
   "outputs": [
    {
     "data": {
      "text/html": [
       "<div>\n",
       "<style scoped>\n",
       "    .dataframe tbody tr th:only-of-type {\n",
       "        vertical-align: middle;\n",
       "    }\n",
       "\n",
       "    .dataframe tbody tr th {\n",
       "        vertical-align: top;\n",
       "    }\n",
       "\n",
       "    .dataframe thead th {\n",
       "        text-align: right;\n",
       "    }\n",
       "</style>\n",
       "<table border=\"1\" class=\"dataframe\">\n",
       "  <thead>\n",
       "    <tr style=\"text-align: right;\">\n",
       "      <th></th>\n",
       "      <th>index</th>\n",
       "      <th>TypeName</th>\n",
       "    </tr>\n",
       "  </thead>\n",
       "  <tbody>\n",
       "    <tr>\n",
       "      <th>0</th>\n",
       "      <td>Notebook</td>\n",
       "      <td>727</td>\n",
       "    </tr>\n",
       "    <tr>\n",
       "      <th>1</th>\n",
       "      <td>Gaming</td>\n",
       "      <td>205</td>\n",
       "    </tr>\n",
       "    <tr>\n",
       "      <th>2</th>\n",
       "      <td>Ultrabook</td>\n",
       "      <td>196</td>\n",
       "    </tr>\n",
       "    <tr>\n",
       "      <th>3</th>\n",
       "      <td>2 in 1 Convertible</td>\n",
       "      <td>121</td>\n",
       "    </tr>\n",
       "    <tr>\n",
       "      <th>4</th>\n",
       "      <td>Workstation</td>\n",
       "      <td>29</td>\n",
       "    </tr>\n",
       "    <tr>\n",
       "      <th>5</th>\n",
       "      <td>Netbook</td>\n",
       "      <td>25</td>\n",
       "    </tr>\n",
       "  </tbody>\n",
       "</table>\n",
       "</div>"
      ],
      "text/plain": [
       "                index  TypeName\n",
       "0            Notebook       727\n",
       "1              Gaming       205\n",
       "2           Ultrabook       196\n",
       "3  2 in 1 Convertible       121\n",
       "4         Workstation        29\n",
       "5             Netbook        25"
      ]
     },
     "execution_count": 14,
     "metadata": {},
     "output_type": "execute_result"
    }
   ],
   "source": [
    "laptop_cleaned['TypeName'].value_counts().reset_index()"
   ]
  },
  {
   "cell_type": "markdown",
   "id": "f644c40d",
   "metadata": {},
   "source": [
    "Laptop's of the type name Notebook are of low price and seem to be  stocked more followed by Gaming,Ultrabook and 2 in 1 Convertible laptops , Workstations and Netbook laptops have the least stock below 50 in quantity."
   ]
  },
  {
   "cell_type": "markdown",
   "id": "941834fc",
   "metadata": {},
   "source": [
    "#### Laptop Price distribution"
   ]
  },
  {
   "cell_type": "code",
   "execution_count": 40,
   "id": "68e3fa6b",
   "metadata": {},
   "outputs": [
    {
     "data": {
      "text/plain": [
       "<AxesSubplot:>"
      ]
     },
     "execution_count": 40,
     "metadata": {},
     "output_type": "execute_result"
    },
    {
     "data": {
      "image/png": "[encoded data removed]",
      "text/plain": [
       "<Figure size 432x288 with 1 Axes>"
      ]
     },
     "metadata": {
      "needs_background": "light"
     },
     "output_type": "display_data"
    }
   ],
   "source": [
    "laptop_cleaned['Price_USD'].hist()"
   ]
  },
  {
   "cell_type": "markdown",
   "id": "f73e65e4",
   "metadata": {},
   "source": [
    "Most laptop prices fetch between prices of 500-1500 usd."
   ]
  },
  {
   "cell_type": "markdown",
   "id": "8f04d231",
   "metadata": {},
   "source": [
    "#### The Relation of Laptop Cpu Vender and the  Price"
   ]
  },
  {
   "cell_type": "code",
   "execution_count": 41,
   "id": "e27fed21",
   "metadata": {
    "scrolled": true
   },
   "outputs": [
    {
     "data": {
      "image/png": "[encoded data removed]",
      "text/plain": [
       "<Figure size 720x360 with 1 Axes>"
      ]
     },
     "metadata": {
      "needs_background": "light"
     },
     "output_type": "display_data"
    }
   ],
   "source": [
    "plt.subplots(figsize=(10,5))\n",
    "sns.barplot(x='Cpu_Type',y='Price_USD',data=laptop_cleaned);"
   ]
  },
  {
   "cell_type": "markdown",
   "id": "c41ba5ba",
   "metadata": {},
   "source": [
    "From the cumulative  laptops in stock most of their CPUs fetch high prices above 1000 are from intel core i7 followed Intel Core i5 then the AMD Processor,Intel Core i3 and other Intel Processor all fetch prices below 750 usd "
   ]
  },
  {
   "cell_type": "markdown",
   "id": "bdd6a3b2",
   "metadata": {},
   "source": [
    "#### The Relation of Laptop CPU Vender and the Price"
   ]
  },
  {
   "cell_type": "code",
   "execution_count": 42,
   "id": "10cd98d6",
   "metadata": {},
   "outputs": [
    {
     "data": {
      "text/plain": [
       "<Figure size 1080x720 with 0 Axes>"
      ]
     },
     "metadata": {},
     "output_type": "display_data"
    },
    {
     "data": {
      "image/png": "[encoded data removed]",
      "text/plain": [
       "<Figure size 720x360 with 2 Axes>"
      ]
     },
     "metadata": {
      "needs_background": "light"
     },
     "output_type": "display_data"
    }
   ],
   "source": [
    "plt.figure(figsize=(15,10))\n",
    "sns.catplot(x='Price_USD',y='Cpu_Type',col='TouchScreen',data=laptop_cleaned)\n",
    "plt.show()"
   ]
  },
  {
   "cell_type": "markdown",
   "id": "fc9bd626",
   "metadata": {},
   "source": [
    "Here we can see that Intel CPUs are the majority of the laptop CPUs with laptop price variations from 500-above 5000 followed by AMD CPUS and we have only one CPU from Samsung. AMD and the Samsung CPUs majority of the laptops using them below 1000 USD.\n",
    "\n",
    "Laptops with i5 and i7 CPUS are the most expensive."
   ]
  },
  {
   "cell_type": "markdown",
   "id": "69eb3e30",
   "metadata": {},
   "source": [
    "### The laptop RAM relation to Price"
   ]
  },
  {
   "cell_type": "code",
   "execution_count": 43,
   "id": "f4cf8852",
   "metadata": {},
   "outputs": [
    {
     "data": {
      "image/png": "[encoded data removed]",
      "text/plain": [
       "<Figure size 720x360 with 1 Axes>"
      ]
     },
     "metadata": {
      "needs_background": "light"
     },
     "output_type": "display_data"
    }
   ],
   "source": [
    "plt.subplots(figsize=(10,5))\n",
    "sns.barplot(x='Ram',y='Price_USD',data=laptop_cleaned);"
   ]
  },
  {
   "cell_type": "markdown",
   "id": "bde28401",
   "metadata": {},
   "source": [
    "The higher the RAM size the higher the laptop Price  "
   ]
  },
  {
   "cell_type": "markdown",
   "id": "107f3f51",
   "metadata": {},
   "source": [
    "### Laptop Screen Size and the price"
   ]
  },
  {
   "cell_type": "code",
   "execution_count": 15,
   "id": "a341aad3",
   "metadata": {},
   "outputs": [
    {
     "data": {
      "image/png": "[encoded data removed]",
      "text/plain": [
       "<Figure size 720x360 with 1 Axes>"
      ]
     },
     "metadata": {
      "needs_background": "light"
     },
     "output_type": "display_data"
    }
   ],
   "source": [
    "plt.subplots(figsize=(10,5))\n",
    "sns.barplot(x='Inches',y='Price_USD',data=laptop_cleaned);"
   ]
  },
  {
   "cell_type": "markdown",
   "id": "f7b9a581",
   "metadata": {},
   "source": [
    "Here we find out that a majority of the laptops have 18.4 screen size followed by 15.4 fetching cumulative prices of above 2500 USD."
   ]
  },
  {
   "cell_type": "markdown",
   "id": "70c3c6f3",
   "metadata": {},
   "source": [
    "#### Laptop Operating System Type vs Price"
   ]
  },
  {
   "cell_type": "code",
   "execution_count": 44,
   "id": "45e8fe2b",
   "metadata": {
    "scrolled": true
   },
   "outputs": [
    {
     "data": {
      "text/plain": [
       "<AxesSubplot:xlabel='OpSys', ylabel='Price_USD'>"
      ]
     },
     "execution_count": 44,
     "metadata": {},
     "output_type": "execute_result"
    },
    {
     "data": {
      "image/png": "[encoded data removed]",
      "text/plain": [
       "<Figure size 1656x360 with 1 Axes>"
      ]
     },
     "metadata": {
      "needs_background": "light"
     },
     "output_type": "display_data"
    }
   ],
   "source": [
    "plt.figure(figsize=(23,5))\n",
    "sns.barplot(x='OpSys',y='Price_USD',data=laptop_cleaned)"
   ]
  },
  {
   "cell_type": "markdown",
   "id": "b7c31f7a",
   "metadata": {},
   "source": [
    "Laptops with windows 10 S (a version of Windows 10 that's streamlined for security and performance, while providing a familiar Windows experience.) cumulatively have high prices followed by laptops with windows 7 then laptops with MacOS then those with windows 10 as the top 4 operating systems among the laptops being sold. "
   ]
  },
  {
   "cell_type": "code",
   "execution_count": 45,
   "id": "36cafe59",
   "metadata": {
    "scrolled": true
   },
   "outputs": [
    {
     "data": {
      "text/plain": [
       "<AxesSubplot:>"
      ]
     },
     "execution_count": 45,
     "metadata": {},
     "output_type": "execute_result"
    },
    {
     "data": {
      "image/png": "[encoded data removed]",
      "text/plain": [
       "<Figure size 432x288 with 1 Axes>"
      ]
     },
     "metadata": {
      "needs_background": "light"
     },
     "output_type": "display_data"
    }
   ],
   "source": [
    "#A majority of the laptops are not touch screen\n",
    "laptop_cleaned['TouchScreen'].value_counts().plot(kind='bar')"
   ]
  },
  {
   "cell_type": "markdown",
   "id": "99f5d9de",
   "metadata": {},
   "source": [
    "#### Laptop Cpu speed vs It's Ram"
   ]
  },
  {
   "cell_type": "code",
   "execution_count": 16,
   "id": "e9d67faf",
   "metadata": {
    "scrolled": true
   },
   "outputs": [
    {
     "data": {
      "image/png": "[encoded data removed]",
      "text/plain": [
       "<Figure size 1656x360 with 1 Axes>"
      ]
     },
     "metadata": {
      "needs_background": "light"
     },
     "output_type": "display_data"
    }
   ],
   "source": [
    "plt.figure(figsize=(23,5))\n",
    "sns.barplot(x='Cpu_Speed',y='Ram',data=laptop_cleaned);"
   ]
  },
  {
   "cell_type": "markdown",
   "id": "68a47538",
   "metadata": {},
   "source": [
    "When you compare the laptop CPU Speed with it's Ram you find that the higher the Ram the more the CPU speed. A higher Ram  increases the CPU speed."
   ]
  },
  {
   "cell_type": "code",
   "execution_count": 80,
   "id": "08b4749e",
   "metadata": {
    "scrolled": false
   },
   "outputs": [
    {
     "data": {
      "image/png": "[encoded data removed]",
      "text/plain": [
       "<Figure size 1656x360 with 1 Axes>"
      ]
     },
     "metadata": {
      "needs_background": "light"
     },
     "output_type": "display_data"
    }
   ],
   "source": [
    "plt.figure(figsize=(23,5))\n",
    "sns.barplot(x='Cpu_Speed',y='Price_USD',data=laptop_cleaned);"
   ]
  },
  {
   "cell_type": "markdown",
   "id": "849e49bf",
   "metadata": {},
   "source": [
    "Worth noting is when comparing the CPU speed with the laptop price we find out that the price for CPU with speeds 1.2 and 1.3 (GHz) have RAM of 8GB and 12 GB respectively hence the high price despite low speed.\n",
    "\n",
    "When you compare the laptop CPU Speed vs it's RAM and the CPU speed vs the laptop price we can conclude that the higher the CPU speed and the RAM capacity the more the price of the laptop and vice versa."
   ]
  },
  {
   "cell_type": "code",
   "execution_count": 79,
   "id": "6b93e7c7",
   "metadata": {
    "scrolled": true
   },
   "outputs": [
    {
     "data": {
      "image/png": "[encoded data removed]",
      "text/plain": [
       "<Figure size 1656x360 with 1 Axes>"
      ]
     },
     "metadata": {
      "needs_background": "light"
     },
     "output_type": "display_data"
    }
   ],
   "source": [
    "plt.figure(figsize=(23,5))\n",
    "sns.barplot(x='Cpu_Speed',y='Cpu_Type',data=laptop_cleaned);"
   ]
  },
  {
   "cell_type": "markdown",
   "id": "8c6d455d",
   "metadata": {},
   "source": [
    "#### Label Encoding for Touch Screen values Yes & No  to 1 & 0"
   ]
  },
  {
   "cell_type": "code",
   "execution_count": 82,
   "id": "b7d174ff",
   "metadata": {},
   "outputs": [
    {
     "name": "stdout",
     "output_type": "stream",
     "text": [
      "Current column values : ['No' 'Yes']\n",
      "After encoding : [0 1]\n"
     ]
    }
   ],
   "source": [
    "from sklearn.preprocessing import LabelEncoder\n",
    "\n",
    "le=LabelEncoder()\n",
    "\n",
    "print('Current column values :',laptop_cleaned['TouchScreen'].unique())\n",
    "print('After encoding :',le.fit_transform(laptop_cleaned['TouchScreen'].unique()))"
   ]
  },
  {
   "cell_type": "code",
   "execution_count": 83,
   "id": "e8933474",
   "metadata": {},
   "outputs": [],
   "source": [
    "laptop_cleaned['TouchScreen']=le.fit_transform(laptop_cleaned['TouchScreen'])"
   ]
  },
  {
   "cell_type": "code",
   "execution_count": 81,
   "id": "29461e6e",
   "metadata": {},
   "outputs": [
    {
     "data": {
      "text/html": [
       "<div>\n",
       "<style scoped>\n",
       "    .dataframe tbody tr th:only-of-type {\n",
       "        vertical-align: middle;\n",
       "    }\n",
       "\n",
       "    .dataframe tbody tr th {\n",
       "        vertical-align: top;\n",
       "    }\n",
       "\n",
       "    .dataframe thead th {\n",
       "        text-align: right;\n",
       "    }\n",
       "</style>\n",
       "<table border=\"1\" class=\"dataframe\">\n",
       "  <thead>\n",
       "    <tr style=\"text-align: right;\">\n",
       "      <th></th>\n",
       "      <th>Company</th>\n",
       "      <th>TypeName</th>\n",
       "      <th>Inches</th>\n",
       "      <th>Ram</th>\n",
       "      <th>OpSys</th>\n",
       "      <th>Weight</th>\n",
       "      <th>TouchScreen</th>\n",
       "      <th>Ips</th>\n",
       "      <th>Cpu_Speed</th>\n",
       "      <th>Cpu_Type</th>\n",
       "      <th>Gpu_vender</th>\n",
       "      <th>HDD</th>\n",
       "      <th>SSD</th>\n",
       "      <th>ppi</th>\n",
       "      <th>Price_USD</th>\n",
       "    </tr>\n",
       "  </thead>\n",
       "  <tbody>\n",
       "    <tr>\n",
       "      <th>0</th>\n",
       "      <td>Apple</td>\n",
       "      <td>Ultrabook</td>\n",
       "      <td>13.3</td>\n",
       "      <td>8</td>\n",
       "      <td>macOS</td>\n",
       "      <td>1.37</td>\n",
       "      <td>No</td>\n",
       "      <td>1</td>\n",
       "      <td>2.3</td>\n",
       "      <td>Intel Core i5</td>\n",
       "      <td>Intel</td>\n",
       "      <td>0</td>\n",
       "      <td>128</td>\n",
       "      <td>226.983005</td>\n",
       "      <td>1406.67</td>\n",
       "    </tr>\n",
       "    <tr>\n",
       "      <th>1</th>\n",
       "      <td>Apple</td>\n",
       "      <td>Ultrabook</td>\n",
       "      <td>13.3</td>\n",
       "      <td>8</td>\n",
       "      <td>macOS</td>\n",
       "      <td>1.34</td>\n",
       "      <td>No</td>\n",
       "      <td>0</td>\n",
       "      <td>1.8</td>\n",
       "      <td>Intel Core i5</td>\n",
       "      <td>Intel</td>\n",
       "      <td>0</td>\n",
       "      <td>0</td>\n",
       "      <td>127.677940</td>\n",
       "      <td>943.89</td>\n",
       "    </tr>\n",
       "    <tr>\n",
       "      <th>2</th>\n",
       "      <td>HP</td>\n",
       "      <td>Notebook</td>\n",
       "      <td>15.6</td>\n",
       "      <td>8</td>\n",
       "      <td>No OS</td>\n",
       "      <td>1.86</td>\n",
       "      <td>No</td>\n",
       "      <td>0</td>\n",
       "      <td>2.5</td>\n",
       "      <td>Intel Core i5</td>\n",
       "      <td>Intel</td>\n",
       "      <td>0</td>\n",
       "      <td>256</td>\n",
       "      <td>141.211998</td>\n",
       "      <td>603.75</td>\n",
       "    </tr>\n",
       "    <tr>\n",
       "      <th>3</th>\n",
       "      <td>Apple</td>\n",
       "      <td>Ultrabook</td>\n",
       "      <td>15.4</td>\n",
       "      <td>16</td>\n",
       "      <td>macOS</td>\n",
       "      <td>1.83</td>\n",
       "      <td>No</td>\n",
       "      <td>1</td>\n",
       "      <td>2.7</td>\n",
       "      <td>Intel Core i7</td>\n",
       "      <td>AMD</td>\n",
       "      <td>0</td>\n",
       "      <td>512</td>\n",
       "      <td>220.534624</td>\n",
       "      <td>2664.32</td>\n",
       "    </tr>\n",
       "    <tr>\n",
       "      <th>4</th>\n",
       "      <td>Apple</td>\n",
       "      <td>Ultrabook</td>\n",
       "      <td>13.3</td>\n",
       "      <td>8</td>\n",
       "      <td>macOS</td>\n",
       "      <td>1.37</td>\n",
       "      <td>No</td>\n",
       "      <td>1</td>\n",
       "      <td>3.1</td>\n",
       "      <td>Intel Core i5</td>\n",
       "      <td>Intel</td>\n",
       "      <td>0</td>\n",
       "      <td>256</td>\n",
       "      <td>226.983005</td>\n",
       "      <td>1893.78</td>\n",
       "    </tr>\n",
       "  </tbody>\n",
       "</table>\n",
       "</div>"
      ],
      "text/plain": [
       "  Company   TypeName  Inches  Ram  OpSys  Weight TouchScreen  Ips  Cpu_Speed  \\\n",
       "0   Apple  Ultrabook    13.3    8  macOS    1.37          No    1        2.3   \n",
       "1   Apple  Ultrabook    13.3    8  macOS    1.34          No    0        1.8   \n",
       "2      HP   Notebook    15.6    8  No OS    1.86          No    0        2.5   \n",
       "3   Apple  Ultrabook    15.4   16  macOS    1.83          No    1        2.7   \n",
       "4   Apple  Ultrabook    13.3    8  macOS    1.37          No    1        3.1   \n",
       "\n",
       "        Cpu_Type Gpu_vender  HDD  SSD         ppi  Price_USD  \n",
       "0  Intel Core i5      Intel    0  128  226.983005    1406.67  \n",
       "1  Intel Core i5      Intel    0    0  127.677940     943.89  \n",
       "2  Intel Core i5      Intel    0  256  141.211998     603.75  \n",
       "3  Intel Core i7        AMD    0  512  220.534624    2664.32  \n",
       "4  Intel Core i5      Intel    0  256  226.983005    1893.78  "
      ]
     },
     "execution_count": 81,
     "metadata": {},
     "output_type": "execute_result"
    }
   ],
   "source": [
    "laptop_cleaned.head()"
   ]
  },
  {
   "cell_type": "code",
   "execution_count": 68,
   "id": "1b2db3c5",
   "metadata": {},
   "outputs": [
    {
     "data": {
      "image/png": "[encoded data removed]",
      "text/plain": [
       "<Figure size 432x288 with 2 Axes>"
      ]
     },
     "metadata": {
      "needs_background": "light"
     },
     "output_type": "display_data"
    }
   ],
   "source": [
    "laptop_corr=laptop_cleaned.corr()\n",
    "sns.heatmap(laptop_corr,xticklabels=laptop_corr.columns,yticklabels=laptop_corr.columns,annot=True,fmt='.2f');"
   ]
  },
  {
   "cell_type": "markdown",
   "id": "48d66df8",
   "metadata": {},
   "source": [
    "### 5. Modelling\n",
    "we've done enough EDA(we could always do more)but let's start to do some model-driven EDA."
   ]
  },
  {
   "cell_type": "code",
   "execution_count": 84,
   "id": "4457173c",
   "metadata": {},
   "outputs": [],
   "source": [
    "#Import required libraies for our models \n",
    "from sklearn.linear_model import LinearRegression\n",
    "from sklearn.tree import DecisionTreeRegressor\n",
    "from sklearn.metrics import mean_squared_error\n",
    "from sklearn.metrics  import mean_absolute_error\n",
    "from sklearn.metrics import r2_score\n",
    "from sklearn.ensemble import RandomForestRegressor\n",
    "from sklearn.metrics import mean_squared_error\n",
    "from sklearn.compose import ColumnTransformer\n",
    "from sklearn.pipeline import Pipeline\n",
    "from sklearn.preprocessing import OneHotEncoder"
   ]
  },
  {
   "cell_type": "code",
   "execution_count": 12,
   "id": "95c69204",
   "metadata": {},
   "outputs": [
    {
     "name": "stdout",
     "output_type": "stream",
     "text": [
      "<class 'pandas.core.frame.DataFrame'>\n",
      "RangeIndex: 1303 entries, 0 to 1302\n",
      "Data columns (total 15 columns):\n",
      " #   Column       Non-Null Count  Dtype  \n",
      "---  ------       --------------  -----  \n",
      " 0   Company      1303 non-null   object \n",
      " 1   TypeName     1303 non-null   object \n",
      " 2   Inches       1303 non-null   float64\n",
      " 3   Ram          1303 non-null   int64  \n",
      " 4   OpSys        1303 non-null   object \n",
      " 5   Weight       1303 non-null   float64\n",
      " 6   TouchScreen  1303 non-null   int32  \n",
      " 7   Ips          1303 non-null   int64  \n",
      " 8   Cpu_Speed    1303 non-null   float64\n",
      " 9   Cpu_Type     1303 non-null   object \n",
      " 10  Gpu_vender   1303 non-null   object \n",
      " 11  HDD          1303 non-null   int64  \n",
      " 12  SSD          1303 non-null   int64  \n",
      " 13  ppi          1303 non-null   float64\n",
      " 14  Price_USD    1303 non-null   float64\n",
      "dtypes: float64(5), int32(1), int64(4), object(5)\n",
      "memory usage: 147.7+ KB\n"
     ]
    }
   ],
   "source": [
    "laptop_cleaned.info()"
   ]
  },
  {
   "cell_type": "markdown",
   "id": "4ab26322",
   "metadata": {},
   "source": [
    "#### Convert strings to categories\n",
    "Performing data preprocessing wher we convert our data string values into categories assgining a numeric category code. "
   ]
  },
  {
   "cell_type": "code",
   "execution_count": 23,
   "id": "bf131225",
   "metadata": {},
   "outputs": [],
   "source": [
    "#This will turn all the string values into category values.\n",
    "for label,content in laptop_cleaned.items():\n",
    "    if pd.api.types.is_string_dtype(content):\n",
    "        laptop_cleaned[label]=content.astype(\"category\").cat.as_ordered()"
   ]
  },
  {
   "cell_type": "code",
   "execution_count": 89,
   "id": "4913df0c",
   "metadata": {},
   "outputs": [
    {
     "data": {
      "text/plain": [
       "Company         object\n",
       "TypeName        object\n",
       "Inches         float64\n",
       "Ram              int64\n",
       "OpSys           object\n",
       "Weight         float64\n",
       "TouchScreen      int32\n",
       "Ips              int64\n",
       "Cpu_Speed      float64\n",
       "Cpu_Type        object\n",
       "Gpu_vender      object\n",
       "HDD              int64\n",
       "SSD              int64\n",
       "ppi            float64\n",
       "Price_USD      float64\n",
       "dtype: object"
      ]
     },
     "execution_count": 89,
     "metadata": {},
     "output_type": "execute_result"
    }
   ],
   "source": [
    "laptop_cleaned.dtypes"
   ]
  },
  {
   "cell_type": "code",
   "execution_count": 24,
   "id": "015ca932",
   "metadata": {},
   "outputs": [],
   "source": [
    "#Turn categorical values into numbers\n",
    "for label,content in laptop_cleaned.items():\n",
    "    if not pd.api.types.is_numeric_dtype(content):\n",
    "    #Turn categories into numbers \n",
    "        laptop_cleaned[label]=pd.Categorical(content).codes"
   ]
  },
  {
   "cell_type": "code",
   "execution_count": 87,
   "id": "e2fbec6a",
   "metadata": {},
   "outputs": [
    {
     "data": {
      "text/html": [
       "<div>\n",
       "<style scoped>\n",
       "    .dataframe tbody tr th:only-of-type {\n",
       "        vertical-align: middle;\n",
       "    }\n",
       "\n",
       "    .dataframe tbody tr th {\n",
       "        vertical-align: top;\n",
       "    }\n",
       "\n",
       "    .dataframe thead th {\n",
       "        text-align: right;\n",
       "    }\n",
       "</style>\n",
       "<table border=\"1\" class=\"dataframe\">\n",
       "  <thead>\n",
       "    <tr style=\"text-align: right;\">\n",
       "      <th></th>\n",
       "      <th>Company</th>\n",
       "      <th>TypeName</th>\n",
       "      <th>Inches</th>\n",
       "      <th>Ram</th>\n",
       "      <th>OpSys</th>\n",
       "      <th>Weight</th>\n",
       "      <th>TouchScreen</th>\n",
       "      <th>Ips</th>\n",
       "      <th>Cpu_Speed</th>\n",
       "      <th>Cpu_Type</th>\n",
       "      <th>Gpu_vender</th>\n",
       "      <th>HDD</th>\n",
       "      <th>SSD</th>\n",
       "      <th>ppi</th>\n",
       "      <th>Price_USD</th>\n",
       "    </tr>\n",
       "  </thead>\n",
       "  <tbody>\n",
       "    <tr>\n",
       "      <th>0</th>\n",
       "      <td>Apple</td>\n",
       "      <td>Ultrabook</td>\n",
       "      <td>13.3</td>\n",
       "      <td>8</td>\n",
       "      <td>macOS</td>\n",
       "      <td>1.37</td>\n",
       "      <td>0</td>\n",
       "      <td>1</td>\n",
       "      <td>2.3</td>\n",
       "      <td>Intel Core i5</td>\n",
       "      <td>Intel</td>\n",
       "      <td>0</td>\n",
       "      <td>128</td>\n",
       "      <td>226.983005</td>\n",
       "      <td>1406.67</td>\n",
       "    </tr>\n",
       "    <tr>\n",
       "      <th>1</th>\n",
       "      <td>Apple</td>\n",
       "      <td>Ultrabook</td>\n",
       "      <td>13.3</td>\n",
       "      <td>8</td>\n",
       "      <td>macOS</td>\n",
       "      <td>1.34</td>\n",
       "      <td>0</td>\n",
       "      <td>0</td>\n",
       "      <td>1.8</td>\n",
       "      <td>Intel Core i5</td>\n",
       "      <td>Intel</td>\n",
       "      <td>0</td>\n",
       "      <td>0</td>\n",
       "      <td>127.677940</td>\n",
       "      <td>943.89</td>\n",
       "    </tr>\n",
       "    <tr>\n",
       "      <th>2</th>\n",
       "      <td>HP</td>\n",
       "      <td>Notebook</td>\n",
       "      <td>15.6</td>\n",
       "      <td>8</td>\n",
       "      <td>No OS</td>\n",
       "      <td>1.86</td>\n",
       "      <td>0</td>\n",
       "      <td>0</td>\n",
       "      <td>2.5</td>\n",
       "      <td>Intel Core i5</td>\n",
       "      <td>Intel</td>\n",
       "      <td>0</td>\n",
       "      <td>256</td>\n",
       "      <td>141.211998</td>\n",
       "      <td>603.75</td>\n",
       "    </tr>\n",
       "    <tr>\n",
       "      <th>3</th>\n",
       "      <td>Apple</td>\n",
       "      <td>Ultrabook</td>\n",
       "      <td>15.4</td>\n",
       "      <td>16</td>\n",
       "      <td>macOS</td>\n",
       "      <td>1.83</td>\n",
       "      <td>0</td>\n",
       "      <td>1</td>\n",
       "      <td>2.7</td>\n",
       "      <td>Intel Core i7</td>\n",
       "      <td>AMD</td>\n",
       "      <td>0</td>\n",
       "      <td>512</td>\n",
       "      <td>220.534624</td>\n",
       "      <td>2664.32</td>\n",
       "    </tr>\n",
       "    <tr>\n",
       "      <th>4</th>\n",
       "      <td>Apple</td>\n",
       "      <td>Ultrabook</td>\n",
       "      <td>13.3</td>\n",
       "      <td>8</td>\n",
       "      <td>macOS</td>\n",
       "      <td>1.37</td>\n",
       "      <td>0</td>\n",
       "      <td>1</td>\n",
       "      <td>3.1</td>\n",
       "      <td>Intel Core i5</td>\n",
       "      <td>Intel</td>\n",
       "      <td>0</td>\n",
       "      <td>256</td>\n",
       "      <td>226.983005</td>\n",
       "      <td>1893.78</td>\n",
       "    </tr>\n",
       "  </tbody>\n",
       "</table>\n",
       "</div>"
      ],
      "text/plain": [
       "  Company   TypeName  Inches  Ram  OpSys  Weight  TouchScreen  Ips  Cpu_Speed  \\\n",
       "0   Apple  Ultrabook    13.3    8  macOS    1.37            0    1        2.3   \n",
       "1   Apple  Ultrabook    13.3    8  macOS    1.34            0    0        1.8   \n",
       "2      HP   Notebook    15.6    8  No OS    1.86            0    0        2.5   \n",
       "3   Apple  Ultrabook    15.4   16  macOS    1.83            0    1        2.7   \n",
       "4   Apple  Ultrabook    13.3    8  macOS    1.37            0    1        3.1   \n",
       "\n",
       "        Cpu_Type Gpu_vender  HDD  SSD         ppi  Price_USD  \n",
       "0  Intel Core i5      Intel    0  128  226.983005    1406.67  \n",
       "1  Intel Core i5      Intel    0    0  127.677940     943.89  \n",
       "2  Intel Core i5      Intel    0  256  141.211998     603.75  \n",
       "3  Intel Core i7        AMD    0  512  220.534624    2664.32  \n",
       "4  Intel Core i5      Intel    0  256  226.983005    1893.78  "
      ]
     },
     "execution_count": 87,
     "metadata": {},
     "output_type": "execute_result"
    }
   ],
   "source": [
    "laptop_cleaned.head()"
   ]
  },
  {
   "cell_type": "markdown",
   "id": "ed8fe2f6",
   "metadata": {},
   "source": [
    "Now all our dataset values are in numerical format let just visualize our correlation matrix again with all the features."
   ]
  },
  {
   "cell_type": "code",
   "execution_count": 88,
   "id": "eef1c6a8",
   "metadata": {},
   "outputs": [
    {
     "data": {
      "text/plain": [
       "<AxesSubplot:>"
      ]
     },
     "execution_count": 88,
     "metadata": {},
     "output_type": "execute_result"
    },
    {
     "data": {
      "image/png": "[encoded data removed]",
      "text/plain": [
       "<Figure size 864x504 with 2 Axes>"
      ]
     },
     "metadata": {
      "needs_background": "light"
     },
     "output_type": "display_data"
    }
   ],
   "source": [
    "plt.figure(figsize=(12,7))\n",
    "sns.heatmap(laptop_cleaned.corr(),xticklabels=laptop_cleaned.columns,yticklabels=laptop_cleaned.columns,annot=True,fmt='.2f')"
   ]
  },
  {
   "cell_type": "markdown",
   "id": "8eb35bdf",
   "metadata": {},
   "source": [
    "As seen earlier the RAM of a laptop has a high correlation to the price ,followed by the laptop storage type of SSD,ppi,then the Cpu_Speed,Gpu_Vender ,Operating System(OpSys),IPS and CPU Type with values (ranging 0.74 - 0.25)."
   ]
  },
  {
   "cell_type": "markdown",
   "id": "9a7f7143",
   "metadata": {},
   "source": [
    "#### Building a machine learning model.\n",
    "We shall use regression models as the nature of the variable we want to predict is in a discrete form(laptop price)\n",
    "* We shall start with linear regression\n",
    "* Decision Trees\n",
    "* Random Forest\n",
    "* XGBoost "
   ]
  },
  {
   "cell_type": "markdown",
   "id": "cae959bd",
   "metadata": {},
   "source": [
    "#### Get our target variable and feature variables (X and Y values)"
   ]
  },
  {
   "cell_type": "code",
   "execution_count": 27,
   "id": "8c2f53b4",
   "metadata": {},
   "outputs": [],
   "source": [
    "laptop_features=laptop_cleaned.drop('Price_USD',axis=1)\n",
    "laptop_price=np.log(laptop_cleaned['Price_USD'])"
   ]
  },
  {
   "cell_type": "code",
   "execution_count": 28,
   "id": "c7b9bf93",
   "metadata": {
    "scrolled": true
   },
   "outputs": [
    {
     "name": "stderr",
     "output_type": "stream",
     "text": [
      "C:\\ProgramData\\Anaconda3\\lib\\site-packages\\seaborn\\distributions.py:2557: FutureWarning: `distplot` is a deprecated function and will be removed in a future version. Please adapt your code to use either `displot` (a figure-level function with similar flexibility) or `histplot` (an axes-level function for histograms).\n",
      "  warnings.warn(msg, FutureWarning)\n"
     ]
    },
    {
     "data": {
      "text/plain": [
       "<AxesSubplot:xlabel='Price_USD', ylabel='Density'>"
      ]
     },
     "execution_count": 28,
     "metadata": {},
     "output_type": "execute_result"
    },
    {
     "data": {
      "image/png": "[encoded data removed]",
      "text/plain": [
       "<Figure size 432x288 with 1 Axes>"
      ]
     },
     "metadata": {
      "needs_background": "light"
     },
     "output_type": "display_data"
    }
   ],
   "source": [
    "#Plot a distribution plot for the price data\n",
    "sns.distplot(laptop_cleaned['Price_USD'])"
   ]
  },
  {
   "cell_type": "markdown",
   "id": "68a1a318",
   "metadata": {},
   "source": [
    "The laptop prices being the target variable is rightly skewed we will need to perform log transformation to have a normal distribution."
   ]
  },
  {
   "cell_type": "code",
   "execution_count": 29,
   "id": "cb159511",
   "metadata": {
    "scrolled": true
   },
   "outputs": [
    {
     "name": "stderr",
     "output_type": "stream",
     "text": [
      "C:\\ProgramData\\Anaconda3\\lib\\site-packages\\seaborn\\distributions.py:2557: FutureWarning: `distplot` is a deprecated function and will be removed in a future version. Please adapt your code to use either `displot` (a figure-level function with similar flexibility) or `histplot` (an axes-level function for histograms).\n",
      "  warnings.warn(msg, FutureWarning)\n"
     ]
    },
    {
     "data": {
      "text/plain": [
       "<AxesSubplot:xlabel='Price_USD', ylabel='Density'>"
      ]
     },
     "execution_count": 29,
     "metadata": {},
     "output_type": "execute_result"
    },
    {
     "data": {
      "image/png": "[encoded data removed]",
      "text/plain": [
       "<Figure size 432x288 with 1 Axes>"
      ]
     },
     "metadata": {
      "needs_background": "light"
     },
     "output_type": "display_data"
    }
   ],
   "source": [
    "#Plot a distribution plot for the price data\n",
    "sns.distplot(np.log(laptop_cleaned['Price_USD']))"
   ]
  },
  {
   "cell_type": "markdown",
   "id": "6c51249e",
   "metadata": {},
   "source": [
    "We now have a normal distribution of our laptop prices which is important when splitting our training and testing data."
   ]
  },
  {
   "cell_type": "code",
   "execution_count": 86,
   "id": "8c2fe212",
   "metadata": {},
   "outputs": [
    {
     "data": {
      "text/html": [
       "<div>\n",
       "<style scoped>\n",
       "    .dataframe tbody tr th:only-of-type {\n",
       "        vertical-align: middle;\n",
       "    }\n",
       "\n",
       "    .dataframe tbody tr th {\n",
       "        vertical-align: top;\n",
       "    }\n",
       "\n",
       "    .dataframe thead th {\n",
       "        text-align: right;\n",
       "    }\n",
       "</style>\n",
       "<table border=\"1\" class=\"dataframe\">\n",
       "  <thead>\n",
       "    <tr style=\"text-align: right;\">\n",
       "      <th></th>\n",
       "      <th>Company</th>\n",
       "      <th>TypeName</th>\n",
       "      <th>Inches</th>\n",
       "      <th>Ram</th>\n",
       "      <th>OpSys</th>\n",
       "      <th>Weight</th>\n",
       "      <th>TouchScreen</th>\n",
       "      <th>Ips</th>\n",
       "      <th>Cpu_Speed</th>\n",
       "      <th>Cpu_Type</th>\n",
       "      <th>Gpu_vender</th>\n",
       "      <th>HDD</th>\n",
       "      <th>SSD</th>\n",
       "      <th>ppi</th>\n",
       "    </tr>\n",
       "  </thead>\n",
       "  <tbody>\n",
       "    <tr>\n",
       "      <th>0</th>\n",
       "      <td>1</td>\n",
       "      <td>4</td>\n",
       "      <td>13.3</td>\n",
       "      <td>8</td>\n",
       "      <td>7</td>\n",
       "      <td>1.37</td>\n",
       "      <td>0</td>\n",
       "      <td>1</td>\n",
       "      <td>2.3</td>\n",
       "      <td>2</td>\n",
       "      <td>2</td>\n",
       "      <td>0</td>\n",
       "      <td>128</td>\n",
       "      <td>226.983005</td>\n",
       "    </tr>\n",
       "    <tr>\n",
       "      <th>1</th>\n",
       "      <td>1</td>\n",
       "      <td>4</td>\n",
       "      <td>13.3</td>\n",
       "      <td>8</td>\n",
       "      <td>7</td>\n",
       "      <td>1.34</td>\n",
       "      <td>0</td>\n",
       "      <td>0</td>\n",
       "      <td>1.8</td>\n",
       "      <td>2</td>\n",
       "      <td>2</td>\n",
       "      <td>0</td>\n",
       "      <td>0</td>\n",
       "      <td>127.677940</td>\n",
       "    </tr>\n",
       "    <tr>\n",
       "      <th>2</th>\n",
       "      <td>7</td>\n",
       "      <td>3</td>\n",
       "      <td>15.6</td>\n",
       "      <td>8</td>\n",
       "      <td>3</td>\n",
       "      <td>1.86</td>\n",
       "      <td>0</td>\n",
       "      <td>0</td>\n",
       "      <td>2.5</td>\n",
       "      <td>2</td>\n",
       "      <td>2</td>\n",
       "      <td>0</td>\n",
       "      <td>256</td>\n",
       "      <td>141.211998</td>\n",
       "    </tr>\n",
       "    <tr>\n",
       "      <th>3</th>\n",
       "      <td>1</td>\n",
       "      <td>4</td>\n",
       "      <td>15.4</td>\n",
       "      <td>16</td>\n",
       "      <td>7</td>\n",
       "      <td>1.83</td>\n",
       "      <td>0</td>\n",
       "      <td>1</td>\n",
       "      <td>2.7</td>\n",
       "      <td>3</td>\n",
       "      <td>0</td>\n",
       "      <td>0</td>\n",
       "      <td>512</td>\n",
       "      <td>220.534624</td>\n",
       "    </tr>\n",
       "    <tr>\n",
       "      <th>4</th>\n",
       "      <td>1</td>\n",
       "      <td>4</td>\n",
       "      <td>13.3</td>\n",
       "      <td>8</td>\n",
       "      <td>7</td>\n",
       "      <td>1.37</td>\n",
       "      <td>0</td>\n",
       "      <td>1</td>\n",
       "      <td>3.1</td>\n",
       "      <td>2</td>\n",
       "      <td>2</td>\n",
       "      <td>0</td>\n",
       "      <td>256</td>\n",
       "      <td>226.983005</td>\n",
       "    </tr>\n",
       "  </tbody>\n",
       "</table>\n",
       "</div>"
      ],
      "text/plain": [
       "   Company  TypeName  Inches  Ram  OpSys  Weight  TouchScreen  Ips  Cpu_Speed  \\\n",
       "0        1         4    13.3    8      7    1.37            0    1        2.3   \n",
       "1        1         4    13.3    8      7    1.34            0    0        1.8   \n",
       "2        7         3    15.6    8      3    1.86            0    0        2.5   \n",
       "3        1         4    15.4   16      7    1.83            0    1        2.7   \n",
       "4        1         4    13.3    8      7    1.37            0    1        3.1   \n",
       "\n",
       "   Cpu_Type  Gpu_vender  HDD  SSD         ppi  \n",
       "0         2           2    0  128  226.983005  \n",
       "1         2           2    0    0  127.677940  \n",
       "2         2           2    0  256  141.211998  \n",
       "3         3           0    0  512  220.534624  \n",
       "4         2           2    0  256  226.983005  "
      ]
     },
     "execution_count": 86,
     "metadata": {},
     "output_type": "execute_result"
    }
   ],
   "source": [
    "laptop_features.head()"
   ]
  },
  {
   "cell_type": "markdown",
   "id": "19e85b5b",
   "metadata": {},
   "source": [
    "#### Splitting data into train/test sets"
   ]
  },
  {
   "cell_type": "code",
   "execution_count": 30,
   "id": "c7e32e9e",
   "metadata": {},
   "outputs": [],
   "source": [
    "from sklearn.model_selection import train_test_split"
   ]
  },
  {
   "cell_type": "code",
   "execution_count": 31,
   "id": "d775a980",
   "metadata": {},
   "outputs": [],
   "source": [
    "X_train,X_test,y_train,y_test=train_test_split(laptop_features,laptop_price,test_size=0.1,random_state=42)"
   ]
  },
  {
   "cell_type": "code",
   "execution_count": 32,
   "id": "a7c34e4e",
   "metadata": {},
   "outputs": [
    {
     "data": {
      "text/html": [
       "<div>\n",
       "<style scoped>\n",
       "    .dataframe tbody tr th:only-of-type {\n",
       "        vertical-align: middle;\n",
       "    }\n",
       "\n",
       "    .dataframe tbody tr th {\n",
       "        vertical-align: top;\n",
       "    }\n",
       "\n",
       "    .dataframe thead th {\n",
       "        text-align: right;\n",
       "    }\n",
       "</style>\n",
       "<table border=\"1\" class=\"dataframe\">\n",
       "  <thead>\n",
       "    <tr style=\"text-align: right;\">\n",
       "      <th></th>\n",
       "      <th>Company</th>\n",
       "      <th>TypeName</th>\n",
       "      <th>Inches</th>\n",
       "      <th>Ram</th>\n",
       "      <th>OpSys</th>\n",
       "      <th>Weight</th>\n",
       "      <th>TouchScreen</th>\n",
       "      <th>Ips</th>\n",
       "      <th>Cpu_Speed</th>\n",
       "      <th>Cpu_Type</th>\n",
       "      <th>Gpu_vender</th>\n",
       "      <th>HDD</th>\n",
       "      <th>SSD</th>\n",
       "      <th>ppi</th>\n",
       "    </tr>\n",
       "  </thead>\n",
       "  <tbody>\n",
       "    <tr>\n",
       "      <th>1276</th>\n",
       "      <td>4</td>\n",
       "      <td>3</td>\n",
       "      <td>15.6</td>\n",
       "      <td>6</td>\n",
       "      <td>4</td>\n",
       "      <td>2.30</td>\n",
       "      <td>0</td>\n",
       "      <td>0</td>\n",
       "      <td>2.40</td>\n",
       "      <td>1</td>\n",
       "      <td>2</td>\n",
       "      <td>1000</td>\n",
       "      <td>0</td>\n",
       "      <td>100.454670</td>\n",
       "    </tr>\n",
       "    <tr>\n",
       "      <th>282</th>\n",
       "      <td>10</td>\n",
       "      <td>1</td>\n",
       "      <td>15.6</td>\n",
       "      <td>8</td>\n",
       "      <td>4</td>\n",
       "      <td>2.50</td>\n",
       "      <td>0</td>\n",
       "      <td>1</td>\n",
       "      <td>2.50</td>\n",
       "      <td>2</td>\n",
       "      <td>3</td>\n",
       "      <td>0</td>\n",
       "      <td>256</td>\n",
       "      <td>141.211998</td>\n",
       "    </tr>\n",
       "    <tr>\n",
       "      <th>344</th>\n",
       "      <td>4</td>\n",
       "      <td>4</td>\n",
       "      <td>13.3</td>\n",
       "      <td>8</td>\n",
       "      <td>4</td>\n",
       "      <td>1.20</td>\n",
       "      <td>0</td>\n",
       "      <td>0</td>\n",
       "      <td>1.80</td>\n",
       "      <td>3</td>\n",
       "      <td>2</td>\n",
       "      <td>0</td>\n",
       "      <td>256</td>\n",
       "      <td>165.632118</td>\n",
       "    </tr>\n",
       "    <tr>\n",
       "      <th>1289</th>\n",
       "      <td>2</td>\n",
       "      <td>4</td>\n",
       "      <td>13.3</td>\n",
       "      <td>8</td>\n",
       "      <td>4</td>\n",
       "      <td>1.20</td>\n",
       "      <td>0</td>\n",
       "      <td>1</td>\n",
       "      <td>0.90</td>\n",
       "      <td>4</td>\n",
       "      <td>2</td>\n",
       "      <td>0</td>\n",
       "      <td>512</td>\n",
       "      <td>165.632118</td>\n",
       "    </tr>\n",
       "    <tr>\n",
       "      <th>965</th>\n",
       "      <td>4</td>\n",
       "      <td>3</td>\n",
       "      <td>15.6</td>\n",
       "      <td>4</td>\n",
       "      <td>2</td>\n",
       "      <td>2.25</td>\n",
       "      <td>0</td>\n",
       "      <td>0</td>\n",
       "      <td>2.00</td>\n",
       "      <td>1</td>\n",
       "      <td>0</td>\n",
       "      <td>1000</td>\n",
       "      <td>0</td>\n",
       "      <td>100.454670</td>\n",
       "    </tr>\n",
       "    <tr>\n",
       "      <th>...</th>\n",
       "      <td>...</td>\n",
       "      <td>...</td>\n",
       "      <td>...</td>\n",
       "      <td>...</td>\n",
       "      <td>...</td>\n",
       "      <td>...</td>\n",
       "      <td>...</td>\n",
       "      <td>...</td>\n",
       "      <td>...</td>\n",
       "      <td>...</td>\n",
       "      <td>...</td>\n",
       "      <td>...</td>\n",
       "      <td>...</td>\n",
       "      <td>...</td>\n",
       "    </tr>\n",
       "    <tr>\n",
       "      <th>1095</th>\n",
       "      <td>0</td>\n",
       "      <td>3</td>\n",
       "      <td>15.6</td>\n",
       "      <td>8</td>\n",
       "      <td>4</td>\n",
       "      <td>2.40</td>\n",
       "      <td>0</td>\n",
       "      <td>0</td>\n",
       "      <td>2.50</td>\n",
       "      <td>2</td>\n",
       "      <td>3</td>\n",
       "      <td>1000</td>\n",
       "      <td>256</td>\n",
       "      <td>141.211998</td>\n",
       "    </tr>\n",
       "    <tr>\n",
       "      <th>1130</th>\n",
       "      <td>7</td>\n",
       "      <td>3</td>\n",
       "      <td>15.6</td>\n",
       "      <td>8</td>\n",
       "      <td>4</td>\n",
       "      <td>2.04</td>\n",
       "      <td>0</td>\n",
       "      <td>0</td>\n",
       "      <td>2.70</td>\n",
       "      <td>3</td>\n",
       "      <td>2</td>\n",
       "      <td>2000</td>\n",
       "      <td>0</td>\n",
       "      <td>100.454670</td>\n",
       "    </tr>\n",
       "    <tr>\n",
       "      <th>1294</th>\n",
       "      <td>7</td>\n",
       "      <td>3</td>\n",
       "      <td>15.6</td>\n",
       "      <td>6</td>\n",
       "      <td>4</td>\n",
       "      <td>2.04</td>\n",
       "      <td>0</td>\n",
       "      <td>0</td>\n",
       "      <td>2.90</td>\n",
       "      <td>0</td>\n",
       "      <td>0</td>\n",
       "      <td>0</td>\n",
       "      <td>0</td>\n",
       "      <td>141.211998</td>\n",
       "    </tr>\n",
       "    <tr>\n",
       "      <th>860</th>\n",
       "      <td>10</td>\n",
       "      <td>3</td>\n",
       "      <td>15.6</td>\n",
       "      <td>8</td>\n",
       "      <td>4</td>\n",
       "      <td>2.30</td>\n",
       "      <td>0</td>\n",
       "      <td>1</td>\n",
       "      <td>2.50</td>\n",
       "      <td>2</td>\n",
       "      <td>2</td>\n",
       "      <td>1000</td>\n",
       "      <td>0</td>\n",
       "      <td>141.211998</td>\n",
       "    </tr>\n",
       "    <tr>\n",
       "      <th>1126</th>\n",
       "      <td>10</td>\n",
       "      <td>0</td>\n",
       "      <td>10.1</td>\n",
       "      <td>4</td>\n",
       "      <td>4</td>\n",
       "      <td>0.69</td>\n",
       "      <td>1</td>\n",
       "      <td>1</td>\n",
       "      <td>1.44</td>\n",
       "      <td>4</td>\n",
       "      <td>2</td>\n",
       "      <td>0</td>\n",
       "      <td>0</td>\n",
       "      <td>224.173809</td>\n",
       "    </tr>\n",
       "  </tbody>\n",
       "</table>\n",
       "<p>1172 rows × 14 columns</p>\n",
       "</div>"
      ],
      "text/plain": [
       "      Company  TypeName  Inches  Ram  OpSys  Weight  TouchScreen  Ips  \\\n",
       "1276        4         3    15.6    6      4    2.30            0    0   \n",
       "282        10         1    15.6    8      4    2.50            0    1   \n",
       "344         4         4    13.3    8      4    1.20            0    0   \n",
       "1289        2         4    13.3    8      4    1.20            0    1   \n",
       "965         4         3    15.6    4      2    2.25            0    0   \n",
       "...       ...       ...     ...  ...    ...     ...          ...  ...   \n",
       "1095        0         3    15.6    8      4    2.40            0    0   \n",
       "1130        7         3    15.6    8      4    2.04            0    0   \n",
       "1294        7         3    15.6    6      4    2.04            0    0   \n",
       "860        10         3    15.6    8      4    2.30            0    1   \n",
       "1126       10         0    10.1    4      4    0.69            1    1   \n",
       "\n",
       "      Cpu_Speed  Cpu_Type  Gpu_vender   HDD  SSD         ppi  \n",
       "1276       2.40         1           2  1000    0  100.454670  \n",
       "282        2.50         2           3     0  256  141.211998  \n",
       "344        1.80         3           2     0  256  165.632118  \n",
       "1289       0.90         4           2     0  512  165.632118  \n",
       "965        2.00         1           0  1000    0  100.454670  \n",
       "...         ...       ...         ...   ...  ...         ...  \n",
       "1095       2.50         2           3  1000  256  141.211998  \n",
       "1130       2.70         3           2  2000    0  100.454670  \n",
       "1294       2.90         0           0     0    0  141.211998  \n",
       "860        2.50         2           2  1000    0  141.211998  \n",
       "1126       1.44         4           2     0    0  224.173809  \n",
       "\n",
       "[1172 rows x 14 columns]"
      ]
     },
     "execution_count": 32,
     "metadata": {},
     "output_type": "execute_result"
    }
   ],
   "source": [
    "X_train"
   ]
  },
  {
   "cell_type": "markdown",
   "id": "4c2a98bc",
   "metadata": {},
   "source": [
    "#### Linear Regression"
   ]
  },
  {
   "cell_type": "code",
   "execution_count": 33,
   "id": "8cd974c3",
   "metadata": {},
   "outputs": [],
   "source": [
    "#instantiate our model\n",
    "linear_model=LinearRegression()"
   ]
  },
  {
   "cell_type": "code",
   "execution_count": 37,
   "id": "46bd4a56",
   "metadata": {},
   "outputs": [
    {
     "data": {
      "text/html": [
       "<style>#sk-container-id-3 {color: black;background-color: white;}#sk-container-id-3 pre{padding: 0;}#sk-container-id-3 div.sk-toggleable {background-color: white;}#sk-container-id-3 label.sk-toggleable__label {cursor: pointer;display: block;width: 100%;margin-bottom: 0;padding: 0.3em;box-sizing: border-box;text-align: center;}#sk-container-id-3 label.sk-toggleable__label-arrow:before {content: \"▸\";float: left;margin-right: 0.25em;color: #696969;}#sk-container-id-3 label.sk-toggleable__label-arrow:hover:before {color: black;}#sk-container-id-3 div.sk-estimator:hover label.sk-toggleable__label-arrow:before {color: black;}#sk-container-id-3 div.sk-toggleable__content {max-height: 0;max-width: 0;overflow: hidden;text-align: left;background-color: #f0f8ff;}#sk-container-id-3 div.sk-toggleable__content pre {margin: 0.2em;color: black;border-radius: 0.25em;background-color: #f0f8ff;}#sk-container-id-3 input.sk-toggleable__control:checked~div.sk-toggleable__content {max-height: 200px;max-width: 100%;overflow: auto;}#sk-container-id-3 input.sk-toggleable__control:checked~label.sk-toggleable__label-arrow:before {content: \"▾\";}#sk-container-id-3 div.sk-estimator input.sk-toggleable__control:checked~label.sk-toggleable__label {background-color: #d4ebff;}#sk-container-id-3 div.sk-label input.sk-toggleable__control:checked~label.sk-toggleable__label {background-color: #d4ebff;}#sk-container-id-3 input.sk-hidden--visually {border: 0;clip: rect(1px 1px 1px 1px);clip: rect(1px, 1px, 1px, 1px);height: 1px;margin: -1px;overflow: hidden;padding: 0;position: absolute;width: 1px;}#sk-container-id-3 div.sk-estimator {font-family: monospace;background-color: #f0f8ff;border: 1px dotted black;border-radius: 0.25em;box-sizing: border-box;margin-bottom: 0.5em;}#sk-container-id-3 div.sk-estimator:hover {background-color: #d4ebff;}#sk-container-id-3 div.sk-parallel-item::after {content: \"\";width: 100%;border-bottom: 1px solid gray;flex-grow: 1;}#sk-container-id-3 div.sk-label:hover label.sk-toggleable__label {background-color: #d4ebff;}#sk-container-id-3 div.sk-serial::before {content: \"\";position: absolute;border-left: 1px solid gray;box-sizing: border-box;top: 0;bottom: 0;left: 50%;z-index: 0;}#sk-container-id-3 div.sk-serial {display: flex;flex-direction: column;align-items: center;background-color: white;padding-right: 0.2em;padding-left: 0.2em;position: relative;}#sk-container-id-3 div.sk-item {position: relative;z-index: 1;}#sk-container-id-3 div.sk-parallel {display: flex;align-items: stretch;justify-content: center;background-color: white;position: relative;}#sk-container-id-3 div.sk-item::before, #sk-container-id-3 div.sk-parallel-item::before {content: \"\";position: absolute;border-left: 1px solid gray;box-sizing: border-box;top: 0;bottom: 0;left: 50%;z-index: -1;}#sk-container-id-3 div.sk-parallel-item {display: flex;flex-direction: column;z-index: 1;position: relative;background-color: white;}#sk-container-id-3 div.sk-parallel-item:first-child::after {align-self: flex-end;width: 50%;}#sk-container-id-3 div.sk-parallel-item:last-child::after {align-self: flex-start;width: 50%;}#sk-container-id-3 div.sk-parallel-item:only-child::after {width: 0;}#sk-container-id-3 div.sk-dashed-wrapped {border: 1px dashed gray;margin: 0 0.4em 0.5em 0.4em;box-sizing: border-box;padding-bottom: 0.4em;background-color: white;}#sk-container-id-3 div.sk-label label {font-family: monospace;font-weight: bold;display: inline-block;line-height: 1.2em;}#sk-container-id-3 div.sk-label-container {text-align: center;}#sk-container-id-3 div.sk-container {/* jupyter's `normalize.less` sets `[hidden] { display: none; }` but bootstrap.min.css set `[hidden] { display: none !important; }` so we also need the `!important` here to be able to override the default hidden behavior on the sphinx rendered scikit-learn.org. See: https://github.com/scikit-learn/scikit-learn/issues/21755 */display: inline-block !important;position: relative;}#sk-container-id-3 div.sk-text-repr-fallback {display: none;}</style><div id=\"sk-container-id-3\" class=\"sk-top-container\"><div class=\"sk-text-repr-fallback\"><pre>LinearRegression()</pre><b>In a Jupyter environment, please rerun this cell to show the HTML representation or trust the notebook. <br />On GitHub, the HTML representation is unable to render, please try loading this page with nbviewer.org.</b></div><div class=\"sk-container\" hidden><div class=\"sk-item\"><div class=\"sk-estimator sk-toggleable\"><input class=\"sk-toggleable__control sk-hidden--visually\" id=\"sk-estimator-id-3\" type=\"checkbox\" checked><label for=\"sk-estimator-id-3\" class=\"sk-toggleable__label sk-toggleable__label-arrow\">LinearRegression</label><div class=\"sk-toggleable__content\"><pre>LinearRegression()</pre></div></div></div></div></div>"
      ],
      "text/plain": [
       "LinearRegression()"
      ]
     },
     "execution_count": 37,
     "metadata": {},
     "output_type": "execute_result"
    }
   ],
   "source": [
    "linear_model.fit(X_train,y_train)"
   ]
  },
  {
   "cell_type": "code",
   "execution_count": 38,
   "id": "a8dcb92c",
   "metadata": {
    "scrolled": true
   },
   "outputs": [
    {
     "name": "stdout",
     "output_type": "stream",
     "text": [
      "Linear Regression mean absolute  error : 0.2709238706235368\n",
      "Linear Regression r2_score : 0.6866889007414554\n"
     ]
    }
   ],
   "source": [
    "#Using our model to predict on trained values\n",
    "pred=linear_model.predict(X_test)\n",
    "#Obtain the mean squared error of our model\n",
    "linear_model_mae =mean_absolute_error(y_test,pred)\n",
    "linear_model_r2score=r2_score(y_test,pred)\n",
    "print('Linear Regression mean absolute  error :', linear_model_mae)\n",
    "print('Linear Regression r2_score :', linear_model_r2score)"
   ]
  },
  {
   "cell_type": "markdown",
   "id": "fe19d1b7",
   "metadata": {},
   "source": [
    "#### Decision Tree Regressor"
   ]
  },
  {
   "cell_type": "code",
   "execution_count": 39,
   "id": "8970ee82",
   "metadata": {
    "scrolled": true
   },
   "outputs": [
    {
     "name": "stdout",
     "output_type": "stream",
     "text": [
      "Decision Tree R2 score: 0.69 \n",
      "Max leaf nodes : 5  MAE: 0\n",
      "\n",
      "Decision Tree R2 score: 0.78 \n",
      "Max leaf nodes : 10  MAE: 0\n",
      "\n",
      "Decision Tree R2 score: 0.81 \n",
      "Max leaf nodes : 20  MAE: 0\n",
      "\n",
      "Decision Tree R2 score: 0.81 \n",
      "Max leaf nodes : 30  MAE: 0\n",
      "\n",
      "Decision Tree R2 score: 0.83 \n",
      "Max leaf nodes : 50  MAE: 0\n",
      "\n",
      "Decision Tree R2 score: 0.81 \n",
      "Max leaf nodes : 100  MAE: 0\n",
      "\n",
      "Decision Tree R2 score: 0.77 \n",
      "Max leaf nodes : 300  MAE: 0\n",
      "\n",
      "Decision Tree R2 score: 0.76 \n",
      "Max leaf nodes : 500  MAE: 0\n",
      "\n"
     ]
    }
   ],
   "source": [
    "def get_random_mae(max_leaf_nodes,X_train,X_test,y_train,y_test):\n",
    "    dt_model=DecisionTreeRegressor(max_leaf_nodes=max_leaf_nodes,random_state=0)\n",
    "    dt_model.fit(X_train,y_train)\n",
    "    dt_pred=dt_model.predict(X_test)\n",
    "    print(\"Decision Tree R2 score: %.2f \"%r2_score(y_test,dt_pred))\n",
    "    dt_mae=mean_absolute_error(y_test,dt_pred)\n",
    "    return(dt_mae)\n",
    "for max_leaf_nodes in [5,10,20,30,50,100,300,500]:\n",
    "    dt_mae=get_random_mae(max_leaf_nodes,X_train,X_test,y_train,y_test)\n",
    "    print(\"Max leaf nodes : %d  MAE: %d\\n\"%(max_leaf_nodes,dt_mae))\n",
    "\n",
    " "
   ]
  },
  {
   "cell_type": "markdown",
   "id": "677e23a4",
   "metadata": {},
   "source": [
    "The Decision Tree model perfoms better with parameter tuning of leaf nodes at 50 and with more leaf nodes after 50 added it drops. Best to keep the leaf nodes at 50 max for this model."
   ]
  },
  {
   "cell_type": "markdown",
   "id": "1738d715",
   "metadata": {},
   "source": [
    "#### Random Forest"
   ]
  },
  {
   "cell_type": "code",
   "execution_count": 40,
   "id": "9b1fe88f",
   "metadata": {},
   "outputs": [],
   "source": [
    "#instantiate our model\n",
    "rf_model=RandomForestRegressor()"
   ]
  },
  {
   "cell_type": "code",
   "execution_count": 41,
   "id": "590a96c5",
   "metadata": {},
   "outputs": [
    {
     "data": {
      "text/html": [
       "<style>#sk-container-id-4 {color: black;background-color: white;}#sk-container-id-4 pre{padding: 0;}#sk-container-id-4 div.sk-toggleable {background-color: white;}#sk-container-id-4 label.sk-toggleable__label {cursor: pointer;display: block;width: 100%;margin-bottom: 0;padding: 0.3em;box-sizing: border-box;text-align: center;}#sk-container-id-4 label.sk-toggleable__label-arrow:before {content: \"▸\";float: left;margin-right: 0.25em;color: #696969;}#sk-container-id-4 label.sk-toggleable__label-arrow:hover:before {color: black;}#sk-container-id-4 div.sk-estimator:hover label.sk-toggleable__label-arrow:before {color: black;}#sk-container-id-4 div.sk-toggleable__content {max-height: 0;max-width: 0;overflow: hidden;text-align: left;background-color: #f0f8ff;}#sk-container-id-4 div.sk-toggleable__content pre {margin: 0.2em;color: black;border-radius: 0.25em;background-color: #f0f8ff;}#sk-container-id-4 input.sk-toggleable__control:checked~div.sk-toggleable__content {max-height: 200px;max-width: 100%;overflow: auto;}#sk-container-id-4 input.sk-toggleable__control:checked~label.sk-toggleable__label-arrow:before {content: \"▾\";}#sk-container-id-4 div.sk-estimator input.sk-toggleable__control:checked~label.sk-toggleable__label {background-color: #d4ebff;}#sk-container-id-4 div.sk-label input.sk-toggleable__control:checked~label.sk-toggleable__label {background-color: #d4ebff;}#sk-container-id-4 input.sk-hidden--visually {border: 0;clip: rect(1px 1px 1px 1px);clip: rect(1px, 1px, 1px, 1px);height: 1px;margin: -1px;overflow: hidden;padding: 0;position: absolute;width: 1px;}#sk-container-id-4 div.sk-estimator {font-family: monospace;background-color: #f0f8ff;border: 1px dotted black;border-radius: 0.25em;box-sizing: border-box;margin-bottom: 0.5em;}#sk-container-id-4 div.sk-estimator:hover {background-color: #d4ebff;}#sk-container-id-4 div.sk-parallel-item::after {content: \"\";width: 100%;border-bottom: 1px solid gray;flex-grow: 1;}#sk-container-id-4 div.sk-label:hover label.sk-toggleable__label {background-color: #d4ebff;}#sk-container-id-4 div.sk-serial::before {content: \"\";position: absolute;border-left: 1px solid gray;box-sizing: border-box;top: 0;bottom: 0;left: 50%;z-index: 0;}#sk-container-id-4 div.sk-serial {display: flex;flex-direction: column;align-items: center;background-color: white;padding-right: 0.2em;padding-left: 0.2em;position: relative;}#sk-container-id-4 div.sk-item {position: relative;z-index: 1;}#sk-container-id-4 div.sk-parallel {display: flex;align-items: stretch;justify-content: center;background-color: white;position: relative;}#sk-container-id-4 div.sk-item::before, #sk-container-id-4 div.sk-parallel-item::before {content: \"\";position: absolute;border-left: 1px solid gray;box-sizing: border-box;top: 0;bottom: 0;left: 50%;z-index: -1;}#sk-container-id-4 div.sk-parallel-item {display: flex;flex-direction: column;z-index: 1;position: relative;background-color: white;}#sk-container-id-4 div.sk-parallel-item:first-child::after {align-self: flex-end;width: 50%;}#sk-container-id-4 div.sk-parallel-item:last-child::after {align-self: flex-start;width: 50%;}#sk-container-id-4 div.sk-parallel-item:only-child::after {width: 0;}#sk-container-id-4 div.sk-dashed-wrapped {border: 1px dashed gray;margin: 0 0.4em 0.5em 0.4em;box-sizing: border-box;padding-bottom: 0.4em;background-color: white;}#sk-container-id-4 div.sk-label label {font-family: monospace;font-weight: bold;display: inline-block;line-height: 1.2em;}#sk-container-id-4 div.sk-label-container {text-align: center;}#sk-container-id-4 div.sk-container {/* jupyter's `normalize.less` sets `[hidden] { display: none; }` but bootstrap.min.css set `[hidden] { display: none !important; }` so we also need the `!important` here to be able to override the default hidden behavior on the sphinx rendered scikit-learn.org. See: https://github.com/scikit-learn/scikit-learn/issues/21755 */display: inline-block !important;position: relative;}#sk-container-id-4 div.sk-text-repr-fallback {display: none;}</style><div id=\"sk-container-id-4\" class=\"sk-top-container\"><div class=\"sk-text-repr-fallback\"><pre>RandomForestRegressor()</pre><b>In a Jupyter environment, please rerun this cell to show the HTML representation or trust the notebook. <br />On GitHub, the HTML representation is unable to render, please try loading this page with nbviewer.org.</b></div><div class=\"sk-container\" hidden><div class=\"sk-item\"><div class=\"sk-estimator sk-toggleable\"><input class=\"sk-toggleable__control sk-hidden--visually\" id=\"sk-estimator-id-4\" type=\"checkbox\" checked><label for=\"sk-estimator-id-4\" class=\"sk-toggleable__label sk-toggleable__label-arrow\">RandomForestRegressor</label><div class=\"sk-toggleable__content\"><pre>RandomForestRegressor()</pre></div></div></div></div></div>"
      ],
      "text/plain": [
       "RandomForestRegressor()"
      ]
     },
     "execution_count": 41,
     "metadata": {},
     "output_type": "execute_result"
    }
   ],
   "source": [
    "rf_model.fit(X_train,y_train)"
   ]
  },
  {
   "cell_type": "code",
   "execution_count": 42,
   "id": "fa4f9085",
   "metadata": {},
   "outputs": [],
   "source": [
    "rf_pred=rf_model.predict(X_test)"
   ]
  },
  {
   "cell_type": "code",
   "execution_count": 43,
   "id": "7cbf0d92",
   "metadata": {},
   "outputs": [
    {
     "name": "stdout",
     "output_type": "stream",
     "text": [
      "Random Forest Regressor mean absolute error 0.16:\n",
      "Random Forest Regressor r2 _score 0.87:\n"
     ]
    }
   ],
   "source": [
    "rf_mae=mean_absolute_error(y_test,rf_pred)\n",
    "rf_r2score=r2_score(y_test,rf_pred)\n",
    "\n",
    "print('Random Forest Regressor mean absolute error %.2f:'%rf_mae)\n",
    "print('Random Forest Regressor r2 _score %.2f:'%rf_r2score)"
   ]
  },
  {
   "cell_type": "markdown",
   "id": "1822179c",
   "metadata": {},
   "source": [
    "Even without trying with various leaf nodes the Random Forest Model baseline r2score is better than the first two models but our MAE is higher."
   ]
  },
  {
   "cell_type": "code",
   "execution_count": 44,
   "id": "3f5df3b0",
   "metadata": {},
   "outputs": [
    {
     "name": "stdout",
     "output_type": "stream",
     "text": [
      "R2 Score: 0.75\n",
      "Max leaf nodes:5 \t MAE : 0.25\n",
      "\n",
      "R2 Score: 0.83\n",
      "Max leaf nodes:10 \t MAE : 0.20\n",
      "\n",
      "R2 Score: 0.86\n",
      "Max leaf nodes:20 \t MAE : 0.18\n",
      "\n",
      "R2 Score: 0.87\n",
      "Max leaf nodes:30 \t MAE : 0.17\n",
      "\n",
      "R2 Score: 0.88\n",
      "Max leaf nodes:50 \t MAE : 0.16\n",
      "\n",
      "R2 Score: 0.88\n",
      "Max leaf nodes:100 \t MAE : 0.15\n",
      "\n",
      "R2 Score: 0.89\n",
      "Max leaf nodes:200 \t MAE : 0.15\n",
      "\n",
      "R2 Score: 0.89\n",
      "Max leaf nodes:300 \t MAE : 0.15\n",
      "\n",
      "R2 Score: 0.89\n",
      "Max leaf nodes:500 \t MAE : 0.15\n",
      "\n"
     ]
    }
   ],
   "source": [
    "from sklearn.metrics import mean_absolute_error\n",
    "#Trying Random Forest Regression model with different leaf nodes and their mae output\n",
    "def get_random_mae(max_leaf_nodes,X_train,X_test,y_train,y_test):\n",
    "    rf_model=RandomForestRegressor(max_leaf_nodes=max_leaf_nodes,max_samples=0.5,max_features=0.75,max_depth=15,random_state=3)\n",
    "    rf_model.fit(X_train,y_train)\n",
    "    rf_pred=rf_model.predict(X_test)\n",
    "    print(\"R2 Score: %.2f\"%(r2_score(y_test,rf_pred)))\n",
    "    mae=mean_absolute_error(y_test,rf_pred)\n",
    "    return (mae)\n",
    "for max_leaf_nodes in [5,10,20,30,50,100,200,300,500]:\n",
    "    mae=get_random_mae(max_leaf_nodes,X_train,X_test,y_train,y_test)\n",
    "    print(\"Max leaf nodes:%d \\t MAE : %.2f\\n\"%(max_leaf_nodes,mae))\n",
    "  "
   ]
  },
  {
   "cell_type": "code",
   "execution_count": 45,
   "id": "cbf7e4e0",
   "metadata": {},
   "outputs": [
    {
     "data": {
      "text/plain": [
       "[<matplotlib.lines.Line2D at 0x1f4bbc2c0a0>]"
      ]
     },
     "execution_count": 45,
     "metadata": {},
     "output_type": "execute_result"
    },
    {
     "data": {
      "image/png": "[encoded data removed]",
      "text/plain": [
       "<Figure size 432x288 with 1 Axes>"
      ]
     },
     "metadata": {
      "needs_background": "light"
     },
     "output_type": "display_data"
    }
   ],
   "source": [
    "import matplotlib.pyplot as plt\n",
    "\n",
    "fig, ax= plt.subplots()\n",
    " \n",
    "\n",
    "plt.xlabel('predicted')\n",
    "plt.ylabel('observed')\n",
    "\n",
    "\n",
    "plt.scatter(y_test,rf_pred, color='red')\n",
    "plt.plot(y_test,y_test, color='blue')"
   ]
  },
  {
   "cell_type": "markdown",
   "id": "5e21bef8",
   "metadata": {},
   "source": [
    "From the output above we can see that as we increase the leaf nodes our R2 score increases however we need not to add to much nodes we don't want our model to overfit on our traning data. \n",
    "\n",
    "Our Random Forest Regression model with Max leaf nodes at 200 returns a better r2 score and a lower MAE than Linear and  Decision Tree regression models.Best to use the max leaf nodes at 200."
   ]
  },
  {
   "cell_type": "markdown",
   "id": "9282d5dd",
   "metadata": {},
   "source": [
    "#### XGBoost Regression"
   ]
  },
  {
   "cell_type": "code",
   "execution_count": 46,
   "id": "c03d76e0",
   "metadata": {},
   "outputs": [],
   "source": [
    "from xgboost import XGBRegressor "
   ]
  },
  {
   "cell_type": "code",
   "execution_count": 47,
   "id": "fe032733",
   "metadata": {},
   "outputs": [],
   "source": [
    "#instantiate our model\n",
    "xgb_model=XGBRegressor()"
   ]
  },
  {
   "cell_type": "code",
   "execution_count": 48,
   "id": "add324ea",
   "metadata": {},
   "outputs": [
    {
     "name": "stdout",
     "output_type": "stream",
     "text": [
      "XGBBoost Regression model MAE : 0.15\n",
      "XGBoost Regression model r2 Score : 0.88\n"
     ]
    }
   ],
   "source": [
    "xgb_model.fit(X_train,y_train)\n",
    "xgb_pred=xgb_model.predict(X_test)\n",
    "xgb_mae=mean_absolute_error(y_test,xgb_pred)\n",
    "xgb_r2score=r2_score(y_test,xgb_pred)\n",
    "\n",
    "print(\"XGBBoost Regression model MAE : %.2f\"%xgb_mae)\n",
    "print(\"XGBoost Regression model r2 Score : %.2f\"%xgb_r2score)"
   ]
  },
  {
   "cell_type": "code",
   "execution_count": 49,
   "id": "b6f1d615",
   "metadata": {},
   "outputs": [
    {
     "data": {
      "text/plain": [
       "[<matplotlib.lines.Line2D at 0x1f4bdb574f0>]"
      ]
     },
     "execution_count": 49,
     "metadata": {},
     "output_type": "execute_result"
    },
    {
     "data": {
      "image/png": "[encoded data removed]",
      "text/plain": [
       "<Figure size 432x288 with 1 Axes>"
      ]
     },
     "metadata": {
      "needs_background": "light"
     },
     "output_type": "display_data"
    }
   ],
   "source": [
    "import matplotlib.pyplot as plt\n",
    "\n",
    "fig, ax= plt.subplots()\n",
    " \n",
    "\n",
    "plt.xlabel('predicted')\n",
    "plt.ylabel('observed')\n",
    "\n",
    "\n",
    "plt.scatter(y_test,xgb_pred, color='red')\n",
    "plt.plot(y_test,y_test, color='blue')"
   ]
  },
  {
   "cell_type": "markdown",
   "id": "d41ca287",
   "metadata": {},
   "source": [
    "The baseline score of our XGBoost model performs better achieving a score that made by parameter tuning of Random Forest Algorithm. An r2 Score of 0.88 which was an improved score following log transformation of our target variable."
   ]
  },
  {
   "cell_type": "markdown",
   "id": "d39d5817",
   "metadata": {},
   "source": [
    "#### Exporting our model"
   ]
  },
  {
   "cell_type": "markdown",
   "id": "87df1600",
   "metadata": {},
   "source": [
    "#### Web App for our Model Deployment\n",
    "\n",
    "We shall use streamlit to create a web app to predict laptop prices. In a web application, we need to implement a form that takes all the inputs from users that we have used in a dataset, and by using the dumped model we predict the output and display it to a user."
   ]
  },
  {
   "cell_type": "code",
   "execution_count": 91,
   "id": "f5688c04",
   "metadata": {},
   "outputs": [],
   "source": [
    "laptop_cleaned.drop('Inches',axis=1,inplace=True)"
   ]
  },
  {
   "cell_type": "code",
   "execution_count": 70,
   "id": "699c5d05",
   "metadata": {},
   "outputs": [],
   "source": [
    "laptop_cleaned.drop('Cpu_Speed',axis=1,inplace=True)"
   ]
  },
  {
   "cell_type": "code",
   "execution_count": 92,
   "id": "f739ddc4",
   "metadata": {},
   "outputs": [],
   "source": [
    "X=laptop_cleaned.drop('Price_USD',axis=1)\n",
    "y=np.log(laptop_cleaned['Price_USD'])\n",
    "\n",
    "X_train,X_test,y_train,y_test = train_test_split(X,y,test_size=0.1,random_state=2)"
   ]
  },
  {
   "cell_type": "code",
   "execution_count": 95,
   "id": "a5d5e034",
   "metadata": {},
   "outputs": [
    {
     "data": {
      "text/html": [
       "<div>\n",
       "<style scoped>\n",
       "    .dataframe tbody tr th:only-of-type {\n",
       "        vertical-align: middle;\n",
       "    }\n",
       "\n",
       "    .dataframe tbody tr th {\n",
       "        vertical-align: top;\n",
       "    }\n",
       "\n",
       "    .dataframe thead th {\n",
       "        text-align: right;\n",
       "    }\n",
       "</style>\n",
       "<table border=\"1\" class=\"dataframe\">\n",
       "  <thead>\n",
       "    <tr style=\"text-align: right;\">\n",
       "      <th></th>\n",
       "      <th>Company</th>\n",
       "      <th>TypeName</th>\n",
       "      <th>Ram</th>\n",
       "      <th>OpSys</th>\n",
       "      <th>Weight</th>\n",
       "      <th>TouchScreen</th>\n",
       "      <th>Ips</th>\n",
       "      <th>Cpu_Speed</th>\n",
       "      <th>Cpu_Type</th>\n",
       "      <th>Gpu_vender</th>\n",
       "      <th>HDD</th>\n",
       "      <th>SSD</th>\n",
       "      <th>ppi</th>\n",
       "      <th>Price_USD</th>\n",
       "    </tr>\n",
       "  </thead>\n",
       "  <tbody>\n",
       "    <tr>\n",
       "      <th>0</th>\n",
       "      <td>Apple</td>\n",
       "      <td>Ultrabook</td>\n",
       "      <td>8</td>\n",
       "      <td>macOS</td>\n",
       "      <td>1.37</td>\n",
       "      <td>0</td>\n",
       "      <td>1</td>\n",
       "      <td>2.3</td>\n",
       "      <td>Intel Core i5</td>\n",
       "      <td>Intel</td>\n",
       "      <td>0</td>\n",
       "      <td>128</td>\n",
       "      <td>226.983005</td>\n",
       "      <td>1406.67</td>\n",
       "    </tr>\n",
       "    <tr>\n",
       "      <th>1</th>\n",
       "      <td>Apple</td>\n",
       "      <td>Ultrabook</td>\n",
       "      <td>8</td>\n",
       "      <td>macOS</td>\n",
       "      <td>1.34</td>\n",
       "      <td>0</td>\n",
       "      <td>0</td>\n",
       "      <td>1.8</td>\n",
       "      <td>Intel Core i5</td>\n",
       "      <td>Intel</td>\n",
       "      <td>0</td>\n",
       "      <td>0</td>\n",
       "      <td>127.677940</td>\n",
       "      <td>943.89</td>\n",
       "    </tr>\n",
       "  </tbody>\n",
       "</table>\n",
       "</div>"
      ],
      "text/plain": [
       "  Company   TypeName  Ram  OpSys  Weight  TouchScreen  Ips  Cpu_Speed  \\\n",
       "0   Apple  Ultrabook    8  macOS    1.37            0    1        2.3   \n",
       "1   Apple  Ultrabook    8  macOS    1.34            0    0        1.8   \n",
       "\n",
       "        Cpu_Type Gpu_vender  HDD  SSD         ppi  Price_USD  \n",
       "0  Intel Core i5      Intel    0  128  226.983005    1406.67  \n",
       "1  Intel Core i5      Intel    0    0  127.677940     943.89  "
      ]
     },
     "execution_count": 95,
     "metadata": {},
     "output_type": "execute_result"
    }
   ],
   "source": [
    "laptop_cleaned.head(2)"
   ]
  },
  {
   "cell_type": "code",
   "execution_count": 72,
   "id": "81d57206",
   "metadata": {
    "scrolled": false
   },
   "outputs": [
    {
     "data": {
      "text/html": [
       "<div>\n",
       "<style scoped>\n",
       "    .dataframe tbody tr th:only-of-type {\n",
       "        vertical-align: middle;\n",
       "    }\n",
       "\n",
       "    .dataframe tbody tr th {\n",
       "        vertical-align: top;\n",
       "    }\n",
       "\n",
       "    .dataframe thead th {\n",
       "        text-align: right;\n",
       "    }\n",
       "</style>\n",
       "<table border=\"1\" class=\"dataframe\">\n",
       "  <thead>\n",
       "    <tr style=\"text-align: right;\">\n",
       "      <th></th>\n",
       "      <th>Company</th>\n",
       "      <th>TypeName</th>\n",
       "      <th>Ram</th>\n",
       "      <th>OpSys</th>\n",
       "      <th>Weight</th>\n",
       "      <th>TouchScreen</th>\n",
       "      <th>Ips</th>\n",
       "      <th>Cpu_Type</th>\n",
       "      <th>Gpu_vender</th>\n",
       "      <th>HDD</th>\n",
       "      <th>SSD</th>\n",
       "      <th>ppi</th>\n",
       "      <th>Price_USD</th>\n",
       "    </tr>\n",
       "  </thead>\n",
       "  <tbody>\n",
       "    <tr>\n",
       "      <th>0</th>\n",
       "      <td>Apple</td>\n",
       "      <td>Ultrabook</td>\n",
       "      <td>8</td>\n",
       "      <td>macOS</td>\n",
       "      <td>1.37</td>\n",
       "      <td>0</td>\n",
       "      <td>1</td>\n",
       "      <td>Intel Core i5</td>\n",
       "      <td>Intel</td>\n",
       "      <td>0</td>\n",
       "      <td>128</td>\n",
       "      <td>226.983005</td>\n",
       "      <td>1406.67</td>\n",
       "    </tr>\n",
       "    <tr>\n",
       "      <th>1</th>\n",
       "      <td>Apple</td>\n",
       "      <td>Ultrabook</td>\n",
       "      <td>8</td>\n",
       "      <td>macOS</td>\n",
       "      <td>1.34</td>\n",
       "      <td>0</td>\n",
       "      <td>0</td>\n",
       "      <td>Intel Core i5</td>\n",
       "      <td>Intel</td>\n",
       "      <td>0</td>\n",
       "      <td>0</td>\n",
       "      <td>127.677940</td>\n",
       "      <td>943.89</td>\n",
       "    </tr>\n",
       "    <tr>\n",
       "      <th>2</th>\n",
       "      <td>HP</td>\n",
       "      <td>Notebook</td>\n",
       "      <td>8</td>\n",
       "      <td>No OS</td>\n",
       "      <td>1.86</td>\n",
       "      <td>0</td>\n",
       "      <td>0</td>\n",
       "      <td>Intel Core i5</td>\n",
       "      <td>Intel</td>\n",
       "      <td>0</td>\n",
       "      <td>256</td>\n",
       "      <td>141.211998</td>\n",
       "      <td>603.75</td>\n",
       "    </tr>\n",
       "    <tr>\n",
       "      <th>3</th>\n",
       "      <td>Apple</td>\n",
       "      <td>Ultrabook</td>\n",
       "      <td>16</td>\n",
       "      <td>macOS</td>\n",
       "      <td>1.83</td>\n",
       "      <td>0</td>\n",
       "      <td>1</td>\n",
       "      <td>Intel Core i7</td>\n",
       "      <td>AMD</td>\n",
       "      <td>0</td>\n",
       "      <td>512</td>\n",
       "      <td>220.534624</td>\n",
       "      <td>2664.32</td>\n",
       "    </tr>\n",
       "    <tr>\n",
       "      <th>4</th>\n",
       "      <td>Apple</td>\n",
       "      <td>Ultrabook</td>\n",
       "      <td>8</td>\n",
       "      <td>macOS</td>\n",
       "      <td>1.37</td>\n",
       "      <td>0</td>\n",
       "      <td>1</td>\n",
       "      <td>Intel Core i5</td>\n",
       "      <td>Intel</td>\n",
       "      <td>0</td>\n",
       "      <td>256</td>\n",
       "      <td>226.983005</td>\n",
       "      <td>1893.78</td>\n",
       "    </tr>\n",
       "  </tbody>\n",
       "</table>\n",
       "</div>"
      ],
      "text/plain": [
       "  Company   TypeName  Ram  OpSys  Weight  TouchScreen  Ips       Cpu_Type  \\\n",
       "0   Apple  Ultrabook    8  macOS    1.37            0    1  Intel Core i5   \n",
       "1   Apple  Ultrabook    8  macOS    1.34            0    0  Intel Core i5   \n",
       "2      HP   Notebook    8  No OS    1.86            0    0  Intel Core i5   \n",
       "3   Apple  Ultrabook   16  macOS    1.83            0    1  Intel Core i7   \n",
       "4   Apple  Ultrabook    8  macOS    1.37            0    1  Intel Core i5   \n",
       "\n",
       "  Gpu_vender  HDD  SSD         ppi  Price_USD  \n",
       "0      Intel    0  128  226.983005    1406.67  \n",
       "1      Intel    0    0  127.677940     943.89  \n",
       "2      Intel    0  256  141.211998     603.75  \n",
       "3        AMD    0  512  220.534624    2664.32  \n",
       "4      Intel    0  256  226.983005    1893.78  "
      ]
     },
     "execution_count": 72,
     "metadata": {},
     "output_type": "execute_result"
    }
   ],
   "source": [
    "laptop_cleaned.head()"
   ]
  },
  {
   "cell_type": "code",
   "execution_count": 94,
   "id": "d0032322",
   "metadata": {},
   "outputs": [
    {
     "name": "stdout",
     "output_type": "stream",
     "text": [
      "R2 score 0.9025739337149884\n",
      "MAE 0.1565443878011568\n"
     ]
    }
   ],
   "source": [
    "step1=ColumnTransformer(transformers=[\n",
    "('col_tnf',OneHotEncoder(sparse=False,drop='first',handle_unknown = 'ignore'),[0,1,3,8,9])],\n",
    "remainder='passthrough')\n",
    "\n",
    "step2=RandomForestRegressor(n_estimators=200,max_samples=0.5,max_features=0.75,max_depth=15,random_state=3)\n",
    "\n",
    "pipe=Pipeline([('step1',step1),('step2',step2)])\n",
    "pipe.fit(X_train,y_train)\n",
    "y_pred=pipe.predict(X_test)\n",
    "print('R2 score',r2_score(y_test,y_pred))\n",
    "print('MAE',mean_absolute_error(y_test,y_pred))"
   ]
  },
  {
   "cell_type": "code",
   "execution_count": 96,
   "id": "db932467",
   "metadata": {},
   "outputs": [],
   "source": [
    "import pickle\n",
    "laptop_cleaned.to_csv(\"laptop_cleaned.csv\", index=False)\n",
    "pickle.dump(pipe,open('pipe.pkl','wb'))\n"
   ]
  },
  {
   "cell_type": "code",
   "execution_count": 97,
   "id": "d78eaddc",
   "metadata": {},
   "outputs": [
    {
     "data": {
      "text/html": [
       "<div>\n",
       "<style scoped>\n",
       "    .dataframe tbody tr th:only-of-type {\n",
       "        vertical-align: middle;\n",
       "    }\n",
       "\n",
       "    .dataframe tbody tr th {\n",
       "        vertical-align: top;\n",
       "    }\n",
       "\n",
       "    .dataframe thead th {\n",
       "        text-align: right;\n",
       "    }\n",
       "</style>\n",
       "<table border=\"1\" class=\"dataframe\">\n",
       "  <thead>\n",
       "    <tr style=\"text-align: right;\">\n",
       "      <th></th>\n",
       "      <th>Company</th>\n",
       "      <th>TypeName</th>\n",
       "      <th>Ram</th>\n",
       "      <th>OpSys</th>\n",
       "      <th>Weight</th>\n",
       "      <th>TouchScreen</th>\n",
       "      <th>Ips</th>\n",
       "      <th>Cpu_Speed</th>\n",
       "      <th>Cpu_Type</th>\n",
       "      <th>Gpu_vender</th>\n",
       "      <th>HDD</th>\n",
       "      <th>SSD</th>\n",
       "      <th>ppi</th>\n",
       "      <th>Price_USD</th>\n",
       "    </tr>\n",
       "  </thead>\n",
       "  <tbody>\n",
       "    <tr>\n",
       "      <th>0</th>\n",
       "      <td>Apple</td>\n",
       "      <td>Ultrabook</td>\n",
       "      <td>8</td>\n",
       "      <td>macOS</td>\n",
       "      <td>1.37</td>\n",
       "      <td>0</td>\n",
       "      <td>1</td>\n",
       "      <td>2.3</td>\n",
       "      <td>Intel Core i5</td>\n",
       "      <td>Intel</td>\n",
       "      <td>0</td>\n",
       "      <td>128</td>\n",
       "      <td>226.983005</td>\n",
       "      <td>1406.67</td>\n",
       "    </tr>\n",
       "    <tr>\n",
       "      <th>1</th>\n",
       "      <td>Apple</td>\n",
       "      <td>Ultrabook</td>\n",
       "      <td>8</td>\n",
       "      <td>macOS</td>\n",
       "      <td>1.34</td>\n",
       "      <td>0</td>\n",
       "      <td>0</td>\n",
       "      <td>1.8</td>\n",
       "      <td>Intel Core i5</td>\n",
       "      <td>Intel</td>\n",
       "      <td>0</td>\n",
       "      <td>0</td>\n",
       "      <td>127.677940</td>\n",
       "      <td>943.89</td>\n",
       "    </tr>\n",
       "    <tr>\n",
       "      <th>2</th>\n",
       "      <td>HP</td>\n",
       "      <td>Notebook</td>\n",
       "      <td>8</td>\n",
       "      <td>No OS</td>\n",
       "      <td>1.86</td>\n",
       "      <td>0</td>\n",
       "      <td>0</td>\n",
       "      <td>2.5</td>\n",
       "      <td>Intel Core i5</td>\n",
       "      <td>Intel</td>\n",
       "      <td>0</td>\n",
       "      <td>256</td>\n",
       "      <td>141.211998</td>\n",
       "      <td>603.75</td>\n",
       "    </tr>\n",
       "    <tr>\n",
       "      <th>3</th>\n",
       "      <td>Apple</td>\n",
       "      <td>Ultrabook</td>\n",
       "      <td>16</td>\n",
       "      <td>macOS</td>\n",
       "      <td>1.83</td>\n",
       "      <td>0</td>\n",
       "      <td>1</td>\n",
       "      <td>2.7</td>\n",
       "      <td>Intel Core i7</td>\n",
       "      <td>AMD</td>\n",
       "      <td>0</td>\n",
       "      <td>512</td>\n",
       "      <td>220.534624</td>\n",
       "      <td>2664.32</td>\n",
       "    </tr>\n",
       "    <tr>\n",
       "      <th>4</th>\n",
       "      <td>Apple</td>\n",
       "      <td>Ultrabook</td>\n",
       "      <td>8</td>\n",
       "      <td>macOS</td>\n",
       "      <td>1.37</td>\n",
       "      <td>0</td>\n",
       "      <td>1</td>\n",
       "      <td>3.1</td>\n",
       "      <td>Intel Core i5</td>\n",
       "      <td>Intel</td>\n",
       "      <td>0</td>\n",
       "      <td>256</td>\n",
       "      <td>226.983005</td>\n",
       "      <td>1893.78</td>\n",
       "    </tr>\n",
       "  </tbody>\n",
       "</table>\n",
       "</div>"
      ],
      "text/plain": [
       "  Company   TypeName  Ram  OpSys  Weight  TouchScreen  Ips  Cpu_Speed  \\\n",
       "0   Apple  Ultrabook    8  macOS    1.37            0    1        2.3   \n",
       "1   Apple  Ultrabook    8  macOS    1.34            0    0        1.8   \n",
       "2      HP   Notebook    8  No OS    1.86            0    0        2.5   \n",
       "3   Apple  Ultrabook   16  macOS    1.83            0    1        2.7   \n",
       "4   Apple  Ultrabook    8  macOS    1.37            0    1        3.1   \n",
       "\n",
       "        Cpu_Type Gpu_vender  HDD  SSD         ppi  Price_USD  \n",
       "0  Intel Core i5      Intel    0  128  226.983005    1406.67  \n",
       "1  Intel Core i5      Intel    0    0  127.677940     943.89  \n",
       "2  Intel Core i5      Intel    0  256  141.211998     603.75  \n",
       "3  Intel Core i7        AMD    0  512  220.534624    2664.32  \n",
       "4  Intel Core i5      Intel    0  256  226.983005    1893.78  "
      ]
     },
     "execution_count": 97,
     "metadata": {},
     "output_type": "execute_result"
    }
   ],
   "source": [
    "df = pd.read_csv('laptop_cleaned.csv')\n",
    "df.head()"
   ]
  },
  {
   "cell_type": "code",
   "execution_count": 62,
   "id": "825ab36c",
   "metadata": {},
   "outputs": [
    {
     "data": {
      "text/plain": [
       "'1.1.1'"
      ]
     },
     "execution_count": 62,
     "metadata": {},
     "output_type": "execute_result"
    }
   ],
   "source": [
    "import sklearn\n",
    "sklearn.__version__"
   ]
  },
  {
   "cell_type": "code",
   "execution_count": 5,
   "id": "54da1d88",
   "metadata": {},
   "outputs": [],
   "source": []
  },
  {
   "cell_type": "code",
   "execution_count": null,
   "id": "836e3088",
   "metadata": {},
   "outputs": [],
   "source": []
  },
  {
   "cell_type": "code",
   "execution_count": null,
   "id": "6e64b589",
   "metadata": {},
   "outputs": [],
   "source": []
  }
 ],
 "metadata": {
  "kernelspec": {
   "display_name": "Python 3",
   "language": "python",
   "name": "python3"
  },
  "language_info": {
   "codemirror_mode": {
    "name": "ipython",
    "version": 3
   },
   "file_extension": ".py",
   "mimetype": "text/x-python",
   "name": "python",
   "nbconvert_exporter": "python",
   "pygments_lexer": "ipython3",
   "version": "3.8.8"
  }
 },
 "nbformat": 4,
 "nbformat_minor": 5
}
